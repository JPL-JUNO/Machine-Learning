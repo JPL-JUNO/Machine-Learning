{
 "cells": [
  {
   "cell_type": "code",
   "execution_count": 1,
   "metadata": {},
   "outputs": [
    {
     "name": "stdout",
     "output_type": "stream",
     "text": [
      "\n",
      "@Title: Using the Keras Preprocessing API\n",
      "@Author(s): Stephen CUI\n",
      "@LastEditor(s): Stephen CUI\n",
      "@CreatedTime: 2023-09-09 21:35:23\n",
      "@Description: \n",
      "\n"
     ]
    }
   ],
   "source": [
    "print(\"\"\"\n",
    "@Title: Using the Keras Preprocessing API\n",
    "@Author(s): Stephen CUI\n",
    "@LastEditor(s): Stephen CUI\n",
    "@CreatedTime: 2023-09-09 21:35:23\n",
    "@Description: 文件的代码有问题，运行的结果匪夷所思\n",
    "\"\"\")"
   ]
  },
  {
   "cell_type": "code",
   "execution_count": 2,
   "metadata": {},
   "outputs": [],
   "source": [
    "import tensorflow as tf\n",
    "from tensorflow import keras\n",
    "import numpy as np\n",
    "from tensorflow.keras.preprocessing.sequence import TimeseriesGenerator, pad_sequences, skipgrams, make_sampling_table\n",
    "from tensorflow.keras.preprocessing.text import text_to_word_sequence, one_hot, hashing_trick, Tokenizer\n",
    "from tensorflow.keras.models import Sequential\n",
    "from tensorflow.keras.layers import Dense"
   ]
  },
  {
   "cell_type": "markdown",
   "metadata": {},
   "source": [
    "## Sequence preprocessing"
   ]
  },
  {
   "cell_type": "markdown",
   "metadata": {},
   "source": [
    "### Time series generator"
   ]
  },
  {
   "cell_type": "code",
   "execution_count": 3,
   "metadata": {},
   "outputs": [
    {
     "data": {
      "text/plain": [
       "array([0, 1, 2, 3, 4, 5, 6, 7, 8, 9])"
      ]
     },
     "execution_count": 3,
     "metadata": {},
     "output_type": "execute_result"
    }
   ],
   "source": [
    "series = np.array([i for i in range(10)])\n",
    "series"
   ]
  },
  {
   "cell_type": "markdown",
   "metadata": {},
   "source": [
    "We want to predict the next value from the last five lag observations. So, we'll define a generator with the length argument set to 5. This argument specifies the length of the output sequences in a number of timesteps:"
   ]
  },
  {
   "cell_type": "code",
   "execution_count": 4,
   "metadata": {},
   "outputs": [],
   "source": [
    "generator = TimeseriesGenerator(data=series,\n",
    "                                targets=series,\n",
    "                                length=5,\n",
    "                                batch_size=1,\n",
    "                                shuffle=False,\n",
    "                                reverse=False)"
   ]
  },
  {
   "cell_type": "code",
   "execution_count": 5,
   "metadata": {},
   "outputs": [
    {
     "name": "stdout",
     "output_type": "stream",
     "text": [
      "Samples: 5\n"
     ]
    }
   ],
   "source": [
    "print(\"Samples: %d\" % len(generator))"
   ]
  },
  {
   "cell_type": "markdown",
   "metadata": {},
   "source": [
    "Then, we'll display the inputs and output of each sample and check that the data is well prepared:"
   ]
  },
  {
   "cell_type": "code",
   "execution_count": 6,
   "metadata": {},
   "outputs": [
    {
     "name": "stdout",
     "output_type": "stream",
     "text": [
      "[[0 1 2 3 4]] = > [5]\n",
      "[[1 2 3 4 5]] = > [6]\n",
      "[[2 3 4 5 6]] = > [7]\n",
      "[[3 4 5 6 7]] = > [8]\n",
      "[[4 5 6 7 8]] = > [9]\n"
     ]
    }
   ],
   "source": [
    "for i in range(len(generator)):\n",
    "    x, y = generator[i]\n",
    "    print(\"%s = > %s\" % (x, y))"
   ]
  },
  {
   "cell_type": "code",
   "execution_count": 16,
   "metadata": {},
   "outputs": [],
   "source": [
    "model = Sequential()\n",
    "model.add(Dense(10, activation=\"relu\", input_dim=5))\n",
    "model.add(Dense(1))\n",
    "model.compile(optimizer=\"adam\", loss=\"mse\")"
   ]
  },
  {
   "cell_type": "code",
   "execution_count": 18,
   "metadata": {},
   "outputs": [
    {
     "name": "stdout",
     "output_type": "stream",
     "text": [
      "Epoch 1/10\n",
      "5/5 [==============================] - 0s 2ms/step - loss: 33.8480\n",
      "Epoch 2/10\n",
      "5/5 [==============================] - 0s 2ms/step - loss: 31.1212\n",
      "Epoch 3/10\n",
      "5/5 [==============================] - 0s 5ms/step - loss: 28.5850\n",
      "Epoch 4/10\n",
      "5/5 [==============================] - 0s 5ms/step - loss: 26.6716\n",
      "Epoch 5/10\n",
      "5/5 [==============================] - 0s 3ms/step - loss: 24.1365\n",
      "Epoch 6/10\n",
      "5/5 [==============================] - 0s 0s/step - loss: 22.2586\n",
      "Epoch 7/10\n",
      "5/5 [==============================] - 0s 2ms/step - loss: 20.4561\n",
      "Epoch 8/10\n",
      "5/5 [==============================] - 0s 4ms/step - loss: 18.3756\n",
      "Epoch 9/10\n",
      "5/5 [==============================] - 0s 4ms/step - loss: 16.9302\n",
      "Epoch 10/10\n",
      "5/5 [==============================] - 0s 5ms/step - loss: 15.3195\n"
     ]
    },
    {
     "data": {
      "text/plain": [
       "<keras.src.callbacks.History at 0x1aa256de8d0>"
      ]
     },
     "execution_count": 18,
     "metadata": {},
     "output_type": "execute_result"
    }
   ],
   "source": [
    "model.fit(generator, epochs=10)"
   ]
  },
  {
   "cell_type": "markdown",
   "metadata": {},
   "source": [
    "### Padding sequences"
   ]
  },
  {
   "cell_type": "markdown",
   "metadata": {},
   "source": [
    "Sequences shorter than the defined sequence length are padded with values at the end (by default) or the beginning of each sequence. Otherwise, if the sequence is greater than the desired length, the sequence is truncated."
   ]
  },
  {
   "cell_type": "code",
   "execution_count": 19,
   "metadata": {},
   "outputs": [],
   "source": [
    "sentences = [[\"What\", \"do\", \"you\", \"like\", \"?\"],\n",
    "             [\"I\", \"like\", \"basket-ball\", \"!\"],\n",
    "             [\"And\", \"you\", \"?\"],\n",
    "             [\"I\", \"like\", \"coconut\", \"and\", \"apple\"]]"
   ]
  },
  {
   "cell_type": "code",
   "execution_count": 31,
   "metadata": {},
   "outputs": [],
   "source": [
    "text_set = set(np.concatenate(sentences))\n",
    "# ✅\n",
    "vocab_to_int = dict(zip(text_set, range(len(text_set))))\n",
    "int_to_vocab = {vocab_to_int[word]: word for word in vocab_to_int.keys()}"
   ]
  },
  {
   "cell_type": "code",
   "execution_count": 35,
   "metadata": {},
   "outputs": [
    {
     "data": {
      "text/plain": [
       "[[11, 5, 10, 8, 9], [1, 8, 6, 2], [0, 10, 9], [1, 8, 7, 3, 4]]"
      ]
     },
     "execution_count": 35,
     "metadata": {},
     "output_type": "execute_result"
    }
   ],
   "source": [
    "encoded_sentences = []\n",
    "for sentence in sentences:\n",
    "    encoded_sentence = [vocab_to_int[word] for word in sentence]\n",
    "    encoded_sentences.append(encoded_sentence)\n",
    "encoded_sentences"
   ]
  },
  {
   "cell_type": "markdown",
   "metadata": {},
   "source": [
    "Now, we'll use the pad_sequences function to truncate and pad sequences to a common length easily. The pre-sequence padding is activated by default."
   ]
  },
  {
   "cell_type": "code",
   "execution_count": 36,
   "metadata": {},
   "outputs": [
    {
     "data": {
      "text/plain": [
       "array([[11,  5, 10,  8,  9],\n",
       "       [ 0,  1,  8,  6,  2],\n",
       "       [ 0,  0,  0, 10,  9],\n",
       "       [ 1,  8,  7,  3,  4]])"
      ]
     },
     "execution_count": 36,
     "metadata": {},
     "output_type": "execute_result"
    }
   ],
   "source": [
    "pad_sequences(encoded_sentences)"
   ]
  },
  {
   "cell_type": "code",
   "execution_count": 38,
   "metadata": {},
   "outputs": [
    {
     "data": {
      "text/plain": [
       "array([[ 0,  0, 11,  5, 10,  8,  9],\n",
       "       [ 0,  0,  0,  1,  8,  6,  2],\n",
       "       [ 0,  0,  0,  0,  0, 10,  9],\n",
       "       [ 0,  0,  1,  8,  7,  3,  4]])"
      ]
     },
     "execution_count": 38,
     "metadata": {},
     "output_type": "execute_result"
    }
   ],
   "source": [
    "pad_sequences(encoded_sentences, maxlen=7)"
   ]
  },
  {
   "cell_type": "code",
   "execution_count": 39,
   "metadata": {},
   "outputs": [
    {
     "data": {
      "text/plain": [
       "array([[10,  8,  9],\n",
       "       [ 8,  6,  2],\n",
       "       [ 0, 10,  9],\n",
       "       [ 7,  3,  4]])"
      ]
     },
     "execution_count": 39,
     "metadata": {},
     "output_type": "execute_result"
    }
   ],
   "source": [
    "pad_sequences(encoded_sentences, maxlen=3)"
   ]
  },
  {
   "cell_type": "code",
   "execution_count": 40,
   "metadata": {},
   "outputs": [
    {
     "data": {
      "text/plain": [
       "array([[11,  5, 10],\n",
       "       [ 1,  8,  6],\n",
       "       [ 0, 10,  9],\n",
       "       [ 1,  8,  7]])"
      ]
     },
     "execution_count": 40,
     "metadata": {},
     "output_type": "execute_result"
    }
   ],
   "source": [
    "pad_sequences(encoded_sentences, maxlen=3, truncating=\"post\")"
   ]
  },
  {
   "cell_type": "markdown",
   "metadata": {},
   "source": [
    "### Skip-grams"
   ]
  },
  {
   "cell_type": "code",
   "execution_count": 89,
   "metadata": {},
   "outputs": [],
   "source": [
    "sentence = \"I like coconut and apple\"\n",
    "encoded_sentence = [vocab_to_int[word] for word in sentence.split()]\n",
    "vocabulary_size = len(encoded_sentence)"
   ]
  },
  {
   "cell_type": "code",
   "execution_count": 90,
   "metadata": {},
   "outputs": [],
   "source": [
    "pairs, labels = skipgrams(encoded_sentence,\n",
    "                          vocabulary_size,\n",
    "                          window_size=1)"
   ]
  },
  {
   "cell_type": "code",
   "execution_count": 103,
   "metadata": {},
   "outputs": [
    {
     "name": "stdout",
     "output_type": "stream",
     "text": [
      "(like , and) -> 0\n",
      "(I , I) -> 0\n",
      "(like , apple) -> 0\n",
      "(and , apple) -> 0\n",
      "(I , like) -> 1\n",
      "(and , coconut) -> 1\n",
      "(like , coconut) -> 1\n",
      "(and , apple) -> 0\n",
      "(and , apple) -> 1\n",
      "(coconut , !) -> 0\n",
      "(coconut , and) -> 1\n",
      "(apple , I) -> 0\n",
      "(apple , and) -> 1\n",
      "(coconut , !) -> 0\n",
      "(coconut , like) -> 1\n",
      "(like , I) -> 1\n"
     ]
    }
   ],
   "source": [
    "for i in range(len(pairs)):\n",
    "    print(\"({:s} , {:s}) -> {:d}\".format(\n",
    "          int_to_vocab[pairs[i][0]], \n",
    "          int_to_vocab[pairs[i][1]], \n",
    "          labels[i]))\n",
    "# 这个感叹号是哪里来的❌"
   ]
  },
  {
   "cell_type": "markdown",
   "metadata": {},
   "source": [
    "## Text preprocessing"
   ]
  },
  {
   "cell_type": "markdown",
   "metadata": {},
   "source": [
    "### Split text to word sequence"
   ]
  },
  {
   "cell_type": "markdown",
   "metadata": {},
   "source": [
    "Keras provides the `text_to_word_sequence` method, which transforms a sequence into a list of words or tokens."
   ]
  },
  {
   "cell_type": "code",
   "execution_count": 106,
   "metadata": {},
   "outputs": [
    {
     "data": {
      "text/plain": [
       "['i', 'like', 'coconut', ',', 'i', 'like', 'apple']"
      ]
     },
     "execution_count": 106,
     "metadata": {},
     "output_type": "execute_result"
    }
   ],
   "source": [
    "sentence = \"I like coconut , I like apple\"\n",
    "# 默认是按照空格分割\n",
    "text_to_word_sequence(sentence, lower=False, filters=[])\n",
    "# sentence.split(\" \")\n",
    "# sentence.lower().split(\" \")"
   ]
  },
  {
   "cell_type": "code",
   "execution_count": 109,
   "metadata": {},
   "outputs": [
    {
     "data": {
      "text/plain": [
       "['i', 'like', 'coconut', 'i', 'like', 'apple']"
      ]
     },
     "execution_count": 109,
     "metadata": {},
     "output_type": "execute_result"
    }
   ],
   "source": [
    "# filters 用来过滤一些字符，比如说标点符号\n",
    "text_to_word_sequence(sentence, lower=True, filters=[','])"
   ]
  },
  {
   "cell_type": "markdown",
   "metadata": {},
   "source": [
    "### Tokenizer"
   ]
  },
  {
   "cell_type": "code",
   "execution_count": 120,
   "metadata": {},
   "outputs": [],
   "source": [
    "sentences = [[\"What\", \"do\", \"you\", \"like\", \"?\", \"you\"],\n",
    "             [\"I\", \"like\", \"basket-ball\", \"!\"],\n",
    "             [\"And\", \"you\", \"?\"],\n",
    "             [\"I\", \"like\", \"coconut\", \"and\", \"apple\"]]"
   ]
  },
  {
   "cell_type": "code",
   "execution_count": 121,
   "metadata": {},
   "outputs": [],
   "source": [
    "t = Tokenizer()\n",
    "t.fit_on_texts(sentences)"
   ]
  },
  {
   "cell_type": "code",
   "execution_count": 122,
   "metadata": {},
   "outputs": [
    {
     "data": {
      "text/plain": [
       "OrderedDict([('what', 1),\n",
       "             ('do', 1),\n",
       "             ('you', 3),\n",
       "             ('like', 3),\n",
       "             ('?', 2),\n",
       "             ('i', 2),\n",
       "             ('basket-ball', 1),\n",
       "             ('!', 1),\n",
       "             ('and', 2),\n",
       "             ('coconut', 1),\n",
       "             ('apple', 1)])"
      ]
     },
     "execution_count": 122,
     "metadata": {},
     "output_type": "execute_result"
    }
   ],
   "source": [
    "t.word_counts"
   ]
  },
  {
   "cell_type": "code",
   "execution_count": 123,
   "metadata": {},
   "outputs": [],
   "source": [
    "assert t.document_count == len(sentences)"
   ]
  },
  {
   "cell_type": "code",
   "execution_count": 124,
   "metadata": {},
   "outputs": [
    {
     "data": {
      "text/plain": [
       "{'you': 1,\n",
       " 'like': 2,\n",
       " '?': 3,\n",
       " 'i': 4,\n",
       " 'and': 5,\n",
       " 'what': 6,\n",
       " 'do': 7,\n",
       " 'basket-ball': 8,\n",
       " '!': 9,\n",
       " 'coconut': 10,\n",
       " 'apple': 11}"
      ]
     },
     "execution_count": 124,
     "metadata": {},
     "output_type": "execute_result"
    }
   ],
   "source": [
    "t.word_index"
   ]
  },
  {
   "cell_type": "code",
   "execution_count": 125,
   "metadata": {},
   "outputs": [
    {
     "data": {
      "text/plain": [
       "defaultdict(int,\n",
       "            {'what': 1,\n",
       "             'do': 1,\n",
       "             'like': 3,\n",
       "             '?': 2,\n",
       "             'you': 2,\n",
       "             'basket-ball': 1,\n",
       "             'i': 2,\n",
       "             '!': 1,\n",
       "             'and': 2,\n",
       "             'apple': 1,\n",
       "             'coconut': 1})"
      ]
     },
     "execution_count": 125,
     "metadata": {},
     "output_type": "execute_result"
    }
   ],
   "source": [
    "# 分词在几篇文档中出现\n",
    "t.word_docs"
   ]
  },
  {
   "cell_type": "code",
   "execution_count": 128,
   "metadata": {},
   "outputs": [
    {
     "data": {
      "text/plain": [
       "array([[0., 1., 1., 1., 0., 0., 1., 1., 0., 0., 0., 0.],\n",
       "       [0., 0., 1., 0., 1., 0., 0., 0., 1., 1., 0., 0.],\n",
       "       [0., 1., 0., 1., 0., 1., 0., 0., 0., 0., 0., 0.],\n",
       "       [0., 0., 1., 0., 1., 1., 0., 0., 0., 0., 1., 1.]])"
      ]
     },
     "execution_count": 128,
     "metadata": {},
     "output_type": "execute_result"
    }
   ],
   "source": [
    "t.texts_to_matrix(sentences, mode='binary')\n",
    "# 是否出现，基于计数"
   ]
  },
  {
   "cell_type": "code",
   "execution_count": 129,
   "metadata": {},
   "outputs": [
    {
     "data": {
      "text/plain": [
       "array([[0., 2., 1., 1., 0., 0., 1., 1., 0., 0., 0., 0.],\n",
       "       [0., 0., 1., 0., 1., 0., 0., 0., 1., 1., 0., 0.],\n",
       "       [0., 1., 0., 1., 0., 1., 0., 0., 0., 0., 0., 0.],\n",
       "       [0., 0., 1., 0., 1., 1., 0., 0., 0., 0., 1., 1.]])"
      ]
     },
     "execution_count": 129,
     "metadata": {},
     "output_type": "execute_result"
    }
   ],
   "source": [
    "t.texts_to_matrix(sentences, mode='count')\n",
    "# 出现次数，基于计数"
   ]
  },
  {
   "cell_type": "code",
   "execution_count": 130,
   "metadata": {},
   "outputs": [
    {
     "data": {
      "text/plain": [
       "array([[0.        , 1.43459998, 0.69314718, 0.84729786, 0.        ,\n",
       "        0.        , 1.09861229, 1.09861229, 0.        , 0.        ,\n",
       "        0.        , 0.        ],\n",
       "       [0.        , 0.        , 0.69314718, 0.        , 0.84729786,\n",
       "        0.        , 0.        , 0.        , 1.09861229, 1.09861229,\n",
       "        0.        , 0.        ],\n",
       "       [0.        , 0.84729786, 0.        , 0.84729786, 0.        ,\n",
       "        0.84729786, 0.        , 0.        , 0.        , 0.        ,\n",
       "        0.        , 0.        ],\n",
       "       [0.        , 0.        , 0.69314718, 0.        , 0.84729786,\n",
       "        0.84729786, 0.        , 0.        , 0.        , 0.        ,\n",
       "        1.09861229, 1.09861229]])"
      ]
     },
     "execution_count": 130,
     "metadata": {},
     "output_type": "execute_result"
    }
   ],
   "source": [
    "t.texts_to_matrix(sentences, mode='tfidf')"
   ]
  },
  {
   "cell_type": "code",
   "execution_count": 132,
   "metadata": {},
   "outputs": [
    {
     "data": {
      "text/plain": [
       "array([[0.        , 0.33333333, 0.16666667, 0.16666667, 0.        ,\n",
       "        0.        , 0.16666667, 0.16666667, 0.        , 0.        ,\n",
       "        0.        , 0.        ],\n",
       "       [0.        , 0.        , 0.25      , 0.        , 0.25      ,\n",
       "        0.        , 0.        , 0.        , 0.25      , 0.25      ,\n",
       "        0.        , 0.        ],\n",
       "       [0.        , 0.33333333, 0.        , 0.33333333, 0.        ,\n",
       "        0.33333333, 0.        , 0.        , 0.        , 0.        ,\n",
       "        0.        , 0.        ],\n",
       "       [0.        , 0.        , 0.2       , 0.        , 0.2       ,\n",
       "        0.2       , 0.        , 0.        , 0.        , 0.        ,\n",
       "        0.2       , 0.2       ]])"
      ]
     },
     "execution_count": 132,
     "metadata": {},
     "output_type": "execute_result"
    }
   ],
   "source": [
    "t.texts_to_matrix(sentences, mode='freq')"
   ]
  },
  {
   "cell_type": "markdown",
   "metadata": {},
   "source": [
    "## Image preprocessing"
   ]
  },
  {
   "cell_type": "code",
   "execution_count": 168,
   "metadata": {},
   "outputs": [],
   "source": [
    "(X_cifar10_train, y_cifar10_train), (X_cifar10_test, y_cifar10_test) = tf.keras.datasets.cifar10.load_data()"
   ]
  },
  {
   "cell_type": "code",
   "execution_count": 169,
   "metadata": {},
   "outputs": [],
   "source": [
    "X_cifar10_train = X_cifar10_train[:30_000]\n",
    "y_cifar10_train = y_cifar10_train[:30_000]\n",
    "# 只用前面三万张照片"
   ]
  },
  {
   "cell_type": "code",
   "execution_count": 146,
   "metadata": {},
   "outputs": [
    {
     "data": {
      "image/png": "[encoded data removed]",
      "text/plain": [
       "<Figure size 1000x1000 with 4 Axes>"
      ]
     },
     "metadata": {},
     "output_type": "display_data"
    }
   ],
   "source": [
    "import matplotlib.pyplot as plt\n",
    "plt.figure(figsize=(10, 10))\n",
    "n_cols = 4\n",
    "for i in range(n_cols):\n",
    "    plt.subplot(1, n_cols, i + 1)\n",
    "    plt.imshow(X_cifar10_train[i+10])\n",
    "plt.tight_layout()\n",
    "plt.show()"
   ]
  },
  {
   "cell_type": "code",
   "execution_count": 157,
   "metadata": {},
   "outputs": [],
   "source": [
    "datagen = tf.keras.preprocessing.image.ImageDataGenerator(horizontal_flip=True)\n",
    "it = datagen.flow(X_cifar10_train[10:12], y_cifar10_train[10:12], batch_size=1)"
   ]
  },
  {
   "cell_type": "code",
   "execution_count": 162,
   "metadata": {},
   "outputs": [
    {
     "data": {
      "image/png": "[encoded data removed]",
      "text/plain": [
       "<Figure size 1000x1000 with 4 Axes>"
      ]
     },
     "metadata": {},
     "output_type": "display_data"
    }
   ],
   "source": [
    "plt.figure(figsize=(10, 10))\n",
    "for i in range(n_cols):\n",
    "    plt.subplot(1, n_cols, i + 1)\n",
    "    batch = it.next()\n",
    "    image = tf.squeeze(batch[0])\n",
    "    plt.imshow(np.uint8(image))\n",
    "plt.tight_layout()\n",
    "plt.show()"
   ]
  },
  {
   "cell_type": "markdown",
   "metadata": {},
   "source": [
    "Now, we'll create an image data generator that applies a horizontal flip, a random rotation between 0 and 15, and a shift of 3 pixels on the width and on the height."
   ]
  },
  {
   "cell_type": "code",
   "execution_count": 203,
   "metadata": {},
   "outputs": [],
   "source": [
    "datagen = tf.keras.preprocessing.image.ImageDataGenerator(rotation_range=15,\n",
    "                                                          rescale=1./255,\n",
    "                                                          width_shift_range=3,\n",
    "                                                          height_shift_range=3,\n",
    "                                                          horizontal_flip=True)\n",
    "# rescale 暂时不能确定其作用，但是这是可以正确运行的参数\n",
    "# ❌"
   ]
  },
  {
   "cell_type": "markdown",
   "metadata": {},
   "source": [
    "Create an iterator on the train dataset."
   ]
  },
  {
   "cell_type": "code",
   "execution_count": 204,
   "metadata": {},
   "outputs": [],
   "source": [
    "it = datagen.flow(X_cifar10_train, y_cifar10_train, batch_size=32)"
   ]
  },
  {
   "cell_type": "code",
   "execution_count": 205,
   "metadata": {},
   "outputs": [],
   "source": [
    "model = tf.keras.Sequential([\n",
    "    tf.keras.layers.Conv2D(filters=32, kernel_size=3, padding=\"same\", activation=\"relu\", input_shape=[32, 32, 3]),\n",
    "    tf.keras.layers.Conv2D(filters=32, kernel_size=3, padding=\"same\", activation=\"relu\"),\n",
    "    tf.keras.layers.MaxPool2D(pool_size=2),\n",
    "    tf.keras.layers.Conv2D(filters=64, kernel_size=3, padding=\"same\", activation=\"relu\"),\n",
    "    tf.keras.layers.Conv2D(filters=64, kernel_size=3, padding=\"same\", activation=\"relu\"),\n",
    "    tf.keras.layers.MaxPool2D(pool_size=2),\n",
    "    tf.keras.layers.Flatten(),\n",
    "    tf.keras.layers.Dense(128, activation=\"relu\"),\n",
    "    tf.keras.layers.Dense(10, activation=\"softmax\")\n",
    "])"
   ]
  },
  {
   "cell_type": "code",
   "execution_count": 206,
   "metadata": {},
   "outputs": [],
   "source": [
    "model.compile(loss=\"sparse_categorical_crossentropy\",\n",
    "              optimizer=tf.keras.optimizers.SGD(learning_rate=.01),\n",
    "              metrics=[\"accuracy\"])"
   ]
  },
  {
   "cell_type": "code",
   "execution_count": 207,
   "metadata": {},
   "outputs": [
    {
     "name": "stdout",
     "output_type": "stream",
     "text": [
      "Epoch 1/3\n",
      "937/937 [==============================] - 105s 109ms/step - loss: 2.0968 - accuracy: 0.2578 - val_loss: 300.3684 - val_accuracy: 0.4015\n",
      "Epoch 2/3\n",
      "937/937 [==============================] - 105s 112ms/step - loss: 1.8053 - accuracy: 0.1024 - val_loss: 279.3787 - val_accuracy: 0.3581\n",
      "Epoch 3/3\n",
      "937/937 [==============================] - 88s 94ms/step - loss: 1.6438 - accuracy: 0.0971 - val_loss: 220.0734 - val_accuracy: 0.2665\n"
     ]
    }
   ],
   "source": [
    "history = model.fit(it, \n",
    "                    epochs=3,\n",
    "                    steps_per_epoch=len(X_cifar10_train) / 32,\n",
    "                    validation_data=(X_cifar10_test, y_cifar10_test))"
   ]
  }
 ],
 "metadata": {
  "kernelspec": {
   "display_name": "dl",
   "language": "python",
   "name": "python3"
  },
  "language_info": {
   "codemirror_mode": {
    "name": "ipython",
    "version": 3
   },
   "file_extension": ".py",
   "mimetype": "text/x-python",
   "name": "python",
   "nbconvert_exporter": "python",
   "pygments_lexer": "ipython3",
   "version": "3.11.4"
  },
  "orig_nbformat": 4
 },
 "nbformat": 4,
 "nbformat_minor": 2
}
