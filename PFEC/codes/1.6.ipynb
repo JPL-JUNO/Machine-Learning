{
 "cells": [
  {
   "cell_type": "markdown",
   "id": "c127000f",
   "metadata": {},
   "source": [
    "# Marking imputed values"
   ]
  },
  {
   "cell_type": "code",
   "execution_count": 50,
   "id": "900b444f",
   "metadata": {
    "ExecuteTime": {
     "end_time": "2022-12-17T15:03:50.099344Z",
     "start_time": "2022-12-17T15:03:50.086879Z"
    }
   },
   "outputs": [
    {
     "data": {
      "text/html": [
       "<style>#sk-container-id-5 {color: black;background-color: white;}#sk-container-id-5 pre{padding: 0;}#sk-container-id-5 div.sk-toggleable {background-color: white;}#sk-container-id-5 label.sk-toggleable__label {cursor: pointer;display: block;width: 100%;margin-bottom: 0;padding: 0.3em;box-sizing: border-box;text-align: center;}#sk-container-id-5 label.sk-toggleable__label-arrow:before {content: \"▸\";float: left;margin-right: 0.25em;color: #696969;}#sk-container-id-5 label.sk-toggleable__label-arrow:hover:before {color: black;}#sk-container-id-5 div.sk-estimator:hover label.sk-toggleable__label-arrow:before {color: black;}#sk-container-id-5 div.sk-toggleable__content {max-height: 0;max-width: 0;overflow: hidden;text-align: left;background-color: #f0f8ff;}#sk-container-id-5 div.sk-toggleable__content pre {margin: 0.2em;color: black;border-radius: 0.25em;background-color: #f0f8ff;}#sk-container-id-5 input.sk-toggleable__control:checked~div.sk-toggleable__content {max-height: 200px;max-width: 100%;overflow: auto;}#sk-container-id-5 input.sk-toggleable__control:checked~label.sk-toggleable__label-arrow:before {content: \"▾\";}#sk-container-id-5 div.sk-estimator input.sk-toggleable__control:checked~label.sk-toggleable__label {background-color: #d4ebff;}#sk-container-id-5 div.sk-label input.sk-toggleable__control:checked~label.sk-toggleable__label {background-color: #d4ebff;}#sk-container-id-5 input.sk-hidden--visually {border: 0;clip: rect(1px 1px 1px 1px);clip: rect(1px, 1px, 1px, 1px);height: 1px;margin: -1px;overflow: hidden;padding: 0;position: absolute;width: 1px;}#sk-container-id-5 div.sk-estimator {font-family: monospace;background-color: #f0f8ff;border: 1px dotted black;border-radius: 0.25em;box-sizing: border-box;margin-bottom: 0.5em;}#sk-container-id-5 div.sk-estimator:hover {background-color: #d4ebff;}#sk-container-id-5 div.sk-parallel-item::after {content: \"\";width: 100%;border-bottom: 1px solid gray;flex-grow: 1;}#sk-container-id-5 div.sk-label:hover label.sk-toggleable__label {background-color: #d4ebff;}#sk-container-id-5 div.sk-serial::before {content: \"\";position: absolute;border-left: 1px solid gray;box-sizing: border-box;top: 0;bottom: 0;left: 50%;z-index: 0;}#sk-container-id-5 div.sk-serial {display: flex;flex-direction: column;align-items: center;background-color: white;padding-right: 0.2em;padding-left: 0.2em;position: relative;}#sk-container-id-5 div.sk-item {position: relative;z-index: 1;}#sk-container-id-5 div.sk-parallel {display: flex;align-items: stretch;justify-content: center;background-color: white;position: relative;}#sk-container-id-5 div.sk-item::before, #sk-container-id-5 div.sk-parallel-item::before {content: \"\";position: absolute;border-left: 1px solid gray;box-sizing: border-box;top: 0;bottom: 0;left: 50%;z-index: -1;}#sk-container-id-5 div.sk-parallel-item {display: flex;flex-direction: column;z-index: 1;position: relative;background-color: white;}#sk-container-id-5 div.sk-parallel-item:first-child::after {align-self: flex-end;width: 50%;}#sk-container-id-5 div.sk-parallel-item:last-child::after {align-self: flex-start;width: 50%;}#sk-container-id-5 div.sk-parallel-item:only-child::after {width: 0;}#sk-container-id-5 div.sk-dashed-wrapped {border: 1px dashed gray;margin: 0 0.4em 0.5em 0.4em;box-sizing: border-box;padding-bottom: 0.4em;background-color: white;}#sk-container-id-5 div.sk-label label {font-family: monospace;font-weight: bold;display: inline-block;line-height: 1.2em;}#sk-container-id-5 div.sk-label-container {text-align: center;}#sk-container-id-5 div.sk-container {/* jupyter's `normalize.less` sets `[hidden] { display: none; }` but bootstrap.min.css set `[hidden] { display: none !important; }` so we also need the `!important` here to be able to override the default hidden behavior on the sphinx rendered scikit-learn.org. See: https://github.com/scikit-learn/scikit-learn/issues/21755 */display: inline-block !important;position: relative;}#sk-container-id-5 div.sk-text-repr-fallback {display: none;}</style><div id=\"sk-container-id-5\" class=\"sk-top-container\"><div class=\"sk-text-repr-fallback\"><pre>ColumnTransformer(transformers=[(&#x27;num_imputer&#x27;,\n",
       "                                 SimpleImputer(add_indicator=True),\n",
       "                                 [&#x27;A2&#x27;, &#x27;A3&#x27;, &#x27;A8&#x27;, &#x27;A11&#x27;, &#x27;A14&#x27;, &#x27;A15&#x27;]),\n",
       "                                (&#x27;cat_imputer&#x27;,\n",
       "                                 SimpleImputer(add_indicator=True,\n",
       "                                               strategy=&#x27;most_frequent&#x27;),\n",
       "                                 [&#x27;A1&#x27;, &#x27;A4&#x27;, &#x27;A5&#x27;, &#x27;A6&#x27;, &#x27;A7&#x27;, &#x27;A9&#x27;, &#x27;A10&#x27;,\n",
       "                                  &#x27;A12&#x27;, &#x27;A13&#x27;])])</pre><b>In a Jupyter environment, please rerun this cell to show the HTML representation or trust the notebook. <br />On GitHub, the HTML representation is unable to render, please try loading this page with nbviewer.org.</b></div><div class=\"sk-container\" hidden><div class=\"sk-item sk-dashed-wrapped\"><div class=\"sk-label-container\"><div class=\"sk-label sk-toggleable\"><input class=\"sk-toggleable__control sk-hidden--visually\" id=\"sk-estimator-id-19\" type=\"checkbox\" ><label for=\"sk-estimator-id-19\" class=\"sk-toggleable__label sk-toggleable__label-arrow\">ColumnTransformer</label><div class=\"sk-toggleable__content\"><pre>ColumnTransformer(transformers=[(&#x27;num_imputer&#x27;,\n",
       "                                 SimpleImputer(add_indicator=True),\n",
       "                                 [&#x27;A2&#x27;, &#x27;A3&#x27;, &#x27;A8&#x27;, &#x27;A11&#x27;, &#x27;A14&#x27;, &#x27;A15&#x27;]),\n",
       "                                (&#x27;cat_imputer&#x27;,\n",
       "                                 SimpleImputer(add_indicator=True,\n",
       "                                               strategy=&#x27;most_frequent&#x27;),\n",
       "                                 [&#x27;A1&#x27;, &#x27;A4&#x27;, &#x27;A5&#x27;, &#x27;A6&#x27;, &#x27;A7&#x27;, &#x27;A9&#x27;, &#x27;A10&#x27;,\n",
       "                                  &#x27;A12&#x27;, &#x27;A13&#x27;])])</pre></div></div></div><div class=\"sk-parallel\"><div class=\"sk-parallel-item\"><div class=\"sk-item\"><div class=\"sk-label-container\"><div class=\"sk-label sk-toggleable\"><input class=\"sk-toggleable__control sk-hidden--visually\" id=\"sk-estimator-id-20\" type=\"checkbox\" ><label for=\"sk-estimator-id-20\" class=\"sk-toggleable__label sk-toggleable__label-arrow\">num_imputer</label><div class=\"sk-toggleable__content\"><pre>[&#x27;A2&#x27;, &#x27;A3&#x27;, &#x27;A8&#x27;, &#x27;A11&#x27;, &#x27;A14&#x27;, &#x27;A15&#x27;]</pre></div></div></div><div class=\"sk-serial\"><div class=\"sk-item\"><div class=\"sk-estimator sk-toggleable\"><input class=\"sk-toggleable__control sk-hidden--visually\" id=\"sk-estimator-id-21\" type=\"checkbox\" ><label for=\"sk-estimator-id-21\" class=\"sk-toggleable__label sk-toggleable__label-arrow\">SimpleImputer</label><div class=\"sk-toggleable__content\"><pre>SimpleImputer(add_indicator=True)</pre></div></div></div></div></div></div><div class=\"sk-parallel-item\"><div class=\"sk-item\"><div class=\"sk-label-container\"><div class=\"sk-label sk-toggleable\"><input class=\"sk-toggleable__control sk-hidden--visually\" id=\"sk-estimator-id-22\" type=\"checkbox\" ><label for=\"sk-estimator-id-22\" class=\"sk-toggleable__label sk-toggleable__label-arrow\">cat_imputer</label><div class=\"sk-toggleable__content\"><pre>[&#x27;A1&#x27;, &#x27;A4&#x27;, &#x27;A5&#x27;, &#x27;A6&#x27;, &#x27;A7&#x27;, &#x27;A9&#x27;, &#x27;A10&#x27;, &#x27;A12&#x27;, &#x27;A13&#x27;]</pre></div></div></div><div class=\"sk-serial\"><div class=\"sk-item\"><div class=\"sk-estimator sk-toggleable\"><input class=\"sk-toggleable__control sk-hidden--visually\" id=\"sk-estimator-id-23\" type=\"checkbox\" ><label for=\"sk-estimator-id-23\" class=\"sk-toggleable__label sk-toggleable__label-arrow\">SimpleImputer</label><div class=\"sk-toggleable__content\"><pre>SimpleImputer(add_indicator=True, strategy=&#x27;most_frequent&#x27;)</pre></div></div></div></div></div></div></div></div></div></div>"
      ],
      "text/plain": [
       "ColumnTransformer(transformers=[('num_imputer',\n",
       "                                 SimpleImputer(add_indicator=True),\n",
       "                                 ['A2', 'A3', 'A8', 'A11', 'A14', 'A15']),\n",
       "                                ('cat_imputer',\n",
       "                                 SimpleImputer(add_indicator=True,\n",
       "                                               strategy='most_frequent'),\n",
       "                                 ['A1', 'A4', 'A5', 'A6', 'A7', 'A9', 'A10',\n",
       "                                  'A12', 'A13'])])"
      ]
     },
     "execution_count": 50,
     "metadata": {},
     "output_type": "execute_result"
    }
   ],
   "source": [
    "import pandas as pd\n",
    "import numpy as np\n",
    "from sklearn.model_selection import train_test_split\n",
    "from sklearn.impute import SimpleImputer\n",
    "from sklearn.compose import ColumnTransformer\n",
    "from sklearn.pipeline import Pipeline\n",
    "from feature_engine.imputation import (\n",
    "    AddMissingIndicator,\n",
    "    CategoricalImputer,\n",
    "    MeanMedianImputer,\n",
    ")\n",
    "\n",
    "data = pd.read_csv('../data/credit_approval_uci.csv')\n",
    "\n",
    "X_train, X_test, y_train, y_test = train_test_split(\n",
    "    data.drop('target', axis='columns'), data['target'],\n",
    "    test_size=.3, random_state=37\n",
    ")\n",
    "\n",
    "varnames = ['A1', 'A3', 'A4', 'A5', 'A6', 'A7', 'A8']\n",
    "\n",
    "indicators = [f'{var}_na' for var in varnames]\n",
    "\n",
    "X_train[indicators] = X_train[varnames].isnull().astype(int)\n",
    "X_test[indicators] = X_test[varnames].isnull().astype(int)\n",
    "\n",
    "X_train.sample(5)\n",
    "\n",
    "# using feature-engine\n",
    "X_train, X_test, y_train, y_test = train_test_split(\n",
    "    data.drop('target', axis='columns'), data['target'],\n",
    "    test_size=.3, random_state=37\n",
    ")\n",
    "\n",
    "imputer = AddMissingIndicator(\n",
    "    variables=None,\n",
    "    missing_only=True,\n",
    ")\n",
    "imputer.fit(X_train)\n",
    "imputer.variables_\n",
    "\n",
    "X_train = imputer.transform(X_train)\n",
    "X_test = imputer.transform(X_test)\n",
    "\n",
    "pipe = Pipeline([\n",
    "    ('ind', AddMissingIndicator(missing_only=True)),\n",
    "    ('cat', CategoricalImputer(imputation_method='frequent')),\n",
    "    ('num', MeanMedianImputer(imputation_method='mean'))\n",
    "])\n",
    "\n",
    "# 此处的Pipeline首先在DataFrame后面添加了存在missing value的字段，字段名设置为原字段名\\_na\n",
    "# 然后将分类型变量设置用众数填充，数值型变量用均值填充\n",
    "X_train = pipe.fit_transform(X_train)\n",
    "X_test = pipe.fit_transform(X_test)\n",
    "\n",
    "# using scikit-learn\n",
    "X_train, X_test, y_train, y_test = train_test_split(\n",
    "    data.drop('target', axis='columns'), data['target'],\n",
    "    test_size=.3, random_state=37\n",
    ")\n",
    "\n",
    "num_vars = X_train.select_dtypes(exclude='O').columns.to_list()\n",
    "cat_vars = X_train.select_dtypes(include='O').columns.to_list()\n",
    "\n",
    "pipe = ColumnTransformer(\n",
    "    [\n",
    "        ('num_imputer', \n",
    "         SimpleImputer(strategy='mean', \n",
    "                       add_indicator=True),\n",
    "         num_vars),\n",
    "        ('cat_imputer',\n",
    "         SimpleImputer(strategy='most_frequent',\n",
    "                       add_indicator=True),\n",
    "         cat_vars)]\n",
    ")\n",
    "X_train = pipe.fit_transform(X_train)\n",
    "X_test = pipe.fit_transform(X_test)\n",
    "pipe"
   ]
  }
 ],
 "metadata": {
  "kernelspec": {
   "display_name": "Python 3",
   "language": "python",
   "name": "python3"
  },
  "language_info": {
   "codemirror_mode": {
    "name": "ipython",
    "version": 3
   },
   "file_extension": ".py",
   "mimetype": "text/x-python",
   "name": "python",
   "nbconvert_exporter": "python",
   "pygments_lexer": "ipython3",
   "version": "3.10.5 (tags/v3.10.5:f377153, Jun  6 2022, 16:14:13) [MSC v.1929 64 bit (AMD64)]"
  },
  "latex_envs": {
   "LaTeX_envs_menu_present": true,
   "autoclose": false,
   "autocomplete": true,
   "bibliofile": "biblio.bib",
   "cite_by": "apalike",
   "current_citInitial": 1,
   "eqLabelWithNumbers": true,
   "eqNumInitial": 1,
   "hotkeys": {
    "equation": "Ctrl-E",
    "itemize": "Ctrl-I"
   },
   "labels_anchors": false,
   "latex_user_defs": false,
   "report_style_numbering": false,
   "user_envs_cfg": false
  },
  "toc": {
   "base_numbering": 1,
   "nav_menu": {},
   "number_sections": true,
   "sideBar": true,
   "skip_h1_title": false,
   "title_cell": "Table of Contents",
   "title_sidebar": "Contents",
   "toc_cell": false,
   "toc_position": {},
   "toc_section_display": true,
   "toc_window_display": false
  },
  "varInspector": {
   "cols": {
    "lenName": 16,
    "lenType": 16,
    "lenVar": 40
   },
   "kernels_config": {
    "python": {
     "delete_cmd_postfix": "",
     "delete_cmd_prefix": "del ",
     "library": "var_list.py",
     "varRefreshCmd": "print(var_dic_list())"
    },
    "r": {
     "delete_cmd_postfix": ") ",
     "delete_cmd_prefix": "rm(",
     "library": "var_list.r",
     "varRefreshCmd": "cat(var_dic_list()) "
    }
   },
   "types_to_exclude": [
    "module",
    "function",
    "builtin_function_or_method",
    "instance",
    "_Feature"
   ],
   "window_display": false
  },
  "vp": {
   "vp_config_version": "1.0.0",
   "vp_menu_width": 273,
   "vp_note_display": false,
   "vp_note_width": 0,
   "vp_position": {
    "width": 278
   },
   "vp_section_display": false,
   "vp_signature": "VisualPython"
  },
  "vscode": {
   "interpreter": {
    "hash": "2469a70536e4d2335a2ea8907942d0699c37342a371ac185bdb5b0aa6f073890"
   }
  }
 },
 "nbformat": 4,
 "nbformat_minor": 5
}
