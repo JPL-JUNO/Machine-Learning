{
 "cells": [
  {
   "cell_type": "code",
   "execution_count": 1,
   "metadata": {},
   "outputs": [
    {
     "name": "stdout",
     "output_type": "stream",
     "text": [
      "该数据集不存在缺失值\n"
     ]
    }
   ],
   "source": [
    "import random\n",
    "import numpy as np\n",
    "import pandas as pd\n",
    "\n",
    "data = pd.read_csv('../data/credit_approval_uci.csv')\n",
    "\n",
    "cat_cols = [\n",
    "    c for c in data.columns if data[c].dtypes == 'O'\n",
    "]\n",
    "num_cols = [\n",
    "    c for c in data.columns if data[c].dtypes != 'O'\n",
    "]\n",
    "\n",
    "data[num_cols] = data[num_cols].fillna(0)\n",
    "data[cat_cols] = data[cat_cols].fillna('Missing')\n",
    "\n",
    "if(not data.isnull().any().any()):\n",
    "    print('该数据集不存在缺失值')\n",
    "    \n",
    "data.to_csv('../data/credit_approval_uci.csv', index=False)"
   ]
  },
  {
   "cell_type": "code",
   "execution_count": null,
   "metadata": {},
   "outputs": [],
   "source": []
  }
 ],
 "metadata": {
  "kernelspec": {
   "display_name": "Python 3",
   "language": "python",
   "name": "python3"
  },
  "language_info": {
   "codemirror_mode": {
    "name": "ipython",
    "version": 3
   },
   "file_extension": ".py",
   "mimetype": "text/x-python",
   "name": "python",
   "nbconvert_exporter": "python",
   "pygments_lexer": "ipython3",
   "version": "3.10.5"
  },
  "orig_nbformat": 4,
  "vscode": {
   "interpreter": {
    "hash": "2469a70536e4d2335a2ea8907942d0699c37342a371ac185bdb5b0aa6f073890"
   }
  }
 },
 "nbformat": 4,
 "nbformat_minor": 2
}
