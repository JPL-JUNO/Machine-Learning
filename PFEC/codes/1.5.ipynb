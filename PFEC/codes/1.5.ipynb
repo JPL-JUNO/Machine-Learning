{
 "cells": [
  {
   "cell_type": "markdown",
   "id": "20ffca2b",
   "metadata": {},
   "source": [
    "# Finding extreme values for imputation"
   ]
  },
  {
   "cell_type": "code",
   "execution_count": 9,
   "id": "d04f18ca",
   "metadata": {
    "ExecuteTime": {
     "end_time": "2022-12-17T14:09:19.038290Z",
     "start_time": "2022-12-17T14:09:18.992350Z"
    }
   },
   "outputs": [
    {
     "name": "stdout",
     "output_type": "stream",
     "text": [
      "['A2', 'A3', 'A8', 'A11', 'A14', 'A15']\n",
      "A2      16.420\n",
      "A3       7.470\n",
      "A8       2.835\n",
      "A11      3.000\n",
      "A14    212.000\n",
      "A15    450.000\n",
      "dtype: float64\n",
      "{'A2': 63.550000000000004, 'A3': 19.675000000000004, 'A8': 7.2524999999999995, 'A11': 7.5, 'A14': 590.0, 'A15': 1125.0}\n",
      "False\n",
      "False\n",
      "{'A2': 88.18, 'A3': 30.880000000000003, 'A8': 11.504999999999999, 'A11': 12.0, 'A14': 908.0, 'A15': 1800.0}\n",
      "False\n",
      "False\n"
     ]
    }
   ],
   "source": [
    "import pandas as pd\n",
    "from sklearn.model_selection import train_test_split\n",
    "from feature_engine.imputation import EndTailImputer\n",
    "\n",
    "data = pd.read_csv('../data/credit_approval_uci.csv')\n",
    "\n",
    "numeric_vars = [\n",
    "    var for var in data.select_dtypes(exclude='O').columns.to_list() if var != 'target'\n",
    "]\n",
    "print(numeric_vars)\n",
    "\n",
    "X_train, X_test, y_train, y_test = train_test_split(\n",
    "    data[numeric_vars],\n",
    "    data['target'],\n",
    "    test_size=.3,\n",
    "    random_state=0)\n",
    "\n",
    "IQR = X_train.quantile(0.75) - X_train.quantile(0.25)\n",
    "print(IQR)\n",
    "\n",
    "imputation_dict = (X_train.quantile(.75) + 1.5 * IQR).to_dict()\n",
    "print(imputation_dict)\n",
    "\n",
    "X_train = X_train.fillna(value=imputation_dict)\n",
    "X_test = X_test.fillna(value=imputation_dict)\n",
    "\n",
    "print(X_train.isnull().any().any())\n",
    "print(X_test.isnull().any().any())\n",
    "\n",
    "# We can also replace missing data with values at the left tail of the distribution\n",
    "X_train, X_test, y_train, y_test = train_test_split(\n",
    "    data[numeric_vars],\n",
    "    data['target'],\n",
    "    test_size=.3,\n",
    "    random_state=0)\n",
    "\n",
    "imputer = EndTailImputer(\n",
    "    imputation_method='iqr',\n",
    "    tail='right',\n",
    "    fold=3,\n",
    "    variables=None)\n",
    "imputer.fit(X_train)\n",
    "\n",
    "print(imputer.imputer_dict_)\n",
    "\n",
    "X_train = imputer.transform(X_train)\n",
    "X_test = imputer.transform(X_test)\n",
    "\n",
    "print(X_train.isnull().any().any())\n",
    "print(X_test.isnull().any().any())"
   ]
  },
  {
   "cell_type": "code",
   "execution_count": null,
   "id": "924e2804",
   "metadata": {},
   "outputs": [],
   "source": []
  }
 ],
 "metadata": {
  "kernelspec": {
   "display_name": "Python 3 (ipykernel)",
   "language": "python",
   "name": "python3"
  },
  "language_info": {
   "codemirror_mode": {
    "name": "ipython",
    "version": 3
   },
   "file_extension": ".py",
   "mimetype": "text/x-python",
   "name": "python",
   "nbconvert_exporter": "python",
   "pygments_lexer": "ipython3",
   "version": "3.9.12"
  },
  "latex_envs": {
   "LaTeX_envs_menu_present": true,
   "autoclose": false,
   "autocomplete": true,
   "bibliofile": "biblio.bib",
   "cite_by": "apalike",
   "current_citInitial": 1,
   "eqLabelWithNumbers": true,
   "eqNumInitial": 1,
   "hotkeys": {
    "equation": "Ctrl-E",
    "itemize": "Ctrl-I"
   },
   "labels_anchors": false,
   "latex_user_defs": false,
   "report_style_numbering": false,
   "user_envs_cfg": false
  },
  "toc": {
   "base_numbering": 1,
   "nav_menu": {},
   "number_sections": true,
   "sideBar": true,
   "skip_h1_title": false,
   "title_cell": "Table of Contents",
   "title_sidebar": "Contents",
   "toc_cell": false,
   "toc_position": {},
   "toc_section_display": true,
   "toc_window_display": false
  },
  "varInspector": {
   "cols": {
    "lenName": 16,
    "lenType": 16,
    "lenVar": 40
   },
   "kernels_config": {
    "python": {
     "delete_cmd_postfix": "",
     "delete_cmd_prefix": "del ",
     "library": "var_list.py",
     "varRefreshCmd": "print(var_dic_list())"
    },
    "r": {
     "delete_cmd_postfix": ") ",
     "delete_cmd_prefix": "rm(",
     "library": "var_list.r",
     "varRefreshCmd": "cat(var_dic_list()) "
    }
   },
   "types_to_exclude": [
    "module",
    "function",
    "builtin_function_or_method",
    "instance",
    "_Feature"
   ],
   "window_display": false
  },
  "vp": {
   "vp_config_version": "1.0.0",
   "vp_menu_width": 273,
   "vp_note_display": false,
   "vp_note_width": 0,
   "vp_position": {
    "width": 278
   },
   "vp_section_display": false,
   "vp_signature": "VisualPython"
  },
  "vscode": {
   "interpreter": {
    "hash": "2469a70536e4d2335a2ea8907942d0699c37342a371ac185bdb5b0aa6f073890"
   }
  }
 },
 "nbformat": 4,
 "nbformat_minor": 5
}
