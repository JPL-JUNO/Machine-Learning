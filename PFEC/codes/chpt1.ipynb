{
 "cells": [
  {
   "cell_type": "code",
   "execution_count": 1,
   "id": "9035aa63",
   "metadata": {
    "ExecuteTime": {
     "end_time": "2022-12-16T14:15:37.784963Z",
     "start_time": "2022-12-16T14:15:37.765960Z"
    }
   },
   "outputs": [],
   "source": [
    "import random\n",
    "import numpy as np\n",
    "import pandas as pd"
   ]
  },
  {
   "cell_type": "code",
   "execution_count": 2,
   "id": "55a1ae32",
   "metadata": {
    "ExecuteTime": {
     "end_time": "2022-12-16T14:15:38.373757Z",
     "start_time": "2022-12-16T14:15:38.309537Z"
    }
   },
   "outputs": [],
   "source": [
    "data = pd.read_csv('../data/crx.data', header=None)\n",
    "varname = [f\"A{s}\" for s in range(1, 17)]\n",
    "data.columns = varname\n",
    "data = data.replace(\"?\", np.nan)\n",
    "data[\"A2\"] = data[\"A2\"].astype(\"float\")\n",
    "data[\"A14\"] = data[\"A14\"].astype(\"float\")\n",
    "data[\"A16\"] = data[\"A16\"].map({\"+\": 1, \"-\": 0})\n",
    "data.rename(columns={\"A16\":\"target\"}, inplace=True)\n",
    "random.seed(37)\n",
    "values = list(set([random.randint(0, len(data)) for p in range(0, 100)]))\n",
    "data.loc[values, [\"A3\", \"A8\", \"A9\", \"A10\"]] = np.nan\n",
    "data.to_csv('../data/credit_approval_uci.csv', index=False)"
   ]
  },
  {
   "cell_type": "code",
   "execution_count": 3,
   "id": "5856eaeb",
   "metadata": {
    "ExecuteTime": {
     "end_time": "2022-12-16T14:15:41.949977Z",
     "start_time": "2022-12-16T14:15:40.365773Z"
    }
   },
   "outputs": [],
   "source": [
    "import matplotlib.pyplot as plt\n",
    "import pandas as pd"
   ]
  },
  {
   "cell_type": "code",
   "execution_count": 4,
   "id": "f6aaf30a",
   "metadata": {
    "ExecuteTime": {
     "end_time": "2022-12-16T14:15:43.494720Z",
     "start_time": "2022-12-16T14:15:43.465483Z"
    }
   },
   "outputs": [],
   "source": [
    "data = pd.read_csv('../data/credit_approval_uci.csv')"
   ]
  },
  {
   "cell_type": "code",
   "execution_count": 5,
   "id": "1355ce83",
   "metadata": {
    "ExecuteTime": {
     "end_time": "2022-12-16T14:15:44.449089Z",
     "start_time": "2022-12-16T14:15:44.228209Z"
    },
    "scrolled": false
   },
   "outputs": [
    {
     "data": {
      "image/png": "[encoded data removed]",
      "text/plain": [
       "<Figure size 432x288 with 1 Axes>"
      ]
     },
     "metadata": {},
     "output_type": "display_data"
    }
   ],
   "source": [
    "with plt.style.context('ggplot'):\n",
    "    data.isnull().mean().sort_values(ascending=True).plot.bar(rot=45)\n",
    "    plt.ylabel(\"Proportion of missing data\")\n",
    "    plt.title(\"Proportion of missing data per variable\")"
   ]
  },
  {
   "cell_type": "code",
   "execution_count": 6,
   "id": "1847f401",
   "metadata": {
    "ExecuteTime": {
     "end_time": "2022-12-16T14:15:45.399376Z",
     "start_time": "2022-12-16T14:15:45.367913Z"
    }
   },
   "outputs": [],
   "source": [
    "data_cca = data.dropna()"
   ]
  },
  {
   "cell_type": "code",
   "execution_count": 7,
   "id": "ec758793",
   "metadata": {
    "ExecuteTime": {
     "end_time": "2022-12-16T14:15:46.187707Z",
     "start_time": "2022-12-16T14:15:46.170700Z"
    }
   },
   "outputs": [
    {
     "name": "stdout",
     "output_type": "stream",
     "text": [
      "Total number of observations: 690\n",
      "Number of observations without missing data: 570\n"
     ]
    }
   ],
   "source": [
    "print(f\"Total number of observations: {len(data)}\")\n",
    "print(f\"Number of observations without missing data: {len(data_cca)}\")"
   ]
  },
  {
   "cell_type": "code",
   "execution_count": 8,
   "id": "7deea5dc",
   "metadata": {
    "ExecuteTime": {
     "end_time": "2022-12-16T14:15:49.591032Z",
     "start_time": "2022-12-16T14:15:46.831285Z"
    }
   },
   "outputs": [
    {
     "name": "stdout",
     "output_type": "stream",
     "text": [
      "['A1', 'A2', 'A3', 'A4', 'A5', 'A6', 'A7', 'A8', 'A9', 'A10', 'A14']\n"
     ]
    }
   ],
   "source": [
    "from feature_engine.imputation import DropMissingData\n",
    "cca = DropMissingData(variables=None, missing_only=True)\n",
    "cca.fit(data)\n",
    "print(cca.variables_)\n",
    "data_cca = cca.transform(data)"
   ]
  },
  {
   "cell_type": "markdown",
   "id": "335c596e",
   "metadata": {},
   "source": [
    "## Performing mean or median imputation"
   ]
  },
  {
   "cell_type": "code",
   "execution_count": 9,
   "id": "a9bfa68c",
   "metadata": {
    "ExecuteTime": {
     "end_time": "2022-12-16T14:16:28.789941Z",
     "start_time": "2022-12-16T14:16:28.195300Z"
    }
   },
   "outputs": [],
   "source": [
    "import pandas as pd\n",
    "from sklearn.model_selection import train_test_split\n",
    "from sklearn.impute import SimpleImputer\n",
    "from sklearn.compose import ColumnTransformer\n",
    "from feature_engine.imputation import MeanMedianImputer"
   ]
  },
  {
   "cell_type": "code",
   "execution_count": 10,
   "id": "2420170e",
   "metadata": {
    "ExecuteTime": {
     "end_time": "2022-12-16T14:16:28.861879Z",
     "start_time": "2022-12-16T14:16:28.849673Z"
    }
   },
   "outputs": [],
   "source": [
    "data = pd.read_csv('../data/credit_approval_uci.csv')"
   ]
  },
  {
   "cell_type": "code",
   "execution_count": 11,
   "id": "b1187fff",
   "metadata": {
    "ExecuteTime": {
     "end_time": "2022-12-16T14:16:29.744464Z",
     "start_time": "2022-12-16T14:16:29.725464Z"
    }
   },
   "outputs": [],
   "source": [
    "X_train, X_test, y_train, y_test = train_test_split(data.drop('target',\n",
    "                                                              axis='columns'),\n",
    "                                                    data['target'],\n",
    "                                                    test_size=.3,\n",
    "                                                    random_state=39)"
   ]
  },
  {
   "cell_type": "code",
   "execution_count": 12,
   "id": "a3bb67b7",
   "metadata": {
    "ExecuteTime": {
     "end_time": "2022-12-16T14:16:30.396959Z",
     "start_time": "2022-12-16T14:16:30.377346Z"
    }
   },
   "outputs": [
    {
     "data": {
      "text/plain": [
       "['A2', 'A3', 'A8', 'A11', 'A14', 'A15']"
      ]
     },
     "execution_count": 12,
     "metadata": {},
     "output_type": "execute_result"
    }
   ],
   "source": [
    "numeric_vars = X_train.select_dtypes(exclude='O').columns.to_list()\n",
    "numeric_vars"
   ]
  },
  {
   "cell_type": "code",
   "execution_count": 13,
   "id": "875cf4bb",
   "metadata": {
    "ExecuteTime": {
     "end_time": "2022-12-16T14:16:31.156835Z",
     "start_time": "2022-12-16T14:16:31.127250Z"
    }
   },
   "outputs": [
    {
     "data": {
      "text/plain": [
       "{'A2': 28.71, 'A3': 2.9375, 'A8': 1.0, 'A11': 0.0, 'A14': 160.0, 'A15': 5.0}"
      ]
     },
     "execution_count": 13,
     "metadata": {},
     "output_type": "execute_result"
    }
   ],
   "source": [
    "median_values = X_train[numeric_vars].median().to_dict()\n",
    "median_values"
   ]
  },
  {
   "cell_type": "code",
   "execution_count": 14,
   "id": "0f9b3475",
   "metadata": {
    "ExecuteTime": {
     "end_time": "2022-12-16T14:16:31.842396Z",
     "start_time": "2022-12-16T14:16:31.831378Z"
    }
   },
   "outputs": [],
   "source": [
    "for df in [X_train, X_test]:\n",
    "# unable to modify X_train and X_test\n",
    "# because df pointer to different address\n",
    "#     df = df.fillna(value=median_values)\n",
    "    df.fillna(value=median_values, inplace=True)\n",
    "# equivalent to following codes\n",
    "# X_train = X_train.fillna(value=median_values)\n",
    "# X_test = X_test.fillna(value=median_values)"
   ]
  },
  {
   "cell_type": "code",
   "execution_count": 15,
   "id": "1965a158",
   "metadata": {
    "ExecuteTime": {
     "end_time": "2022-12-16T14:16:32.556268Z",
     "start_time": "2022-12-16T14:16:32.537352Z"
    }
   },
   "outputs": [],
   "source": [
    "X_train, X_test, y_train, y_test = train_test_split(data.drop('target',\n",
    "                                                              axis='columns'),\n",
    "                                                    data['target'],\n",
    "                                                    test_size=.3,\n",
    "                                                    random_state=39)"
   ]
  },
  {
   "cell_type": "code",
   "execution_count": 16,
   "id": "f9ba2b49",
   "metadata": {
    "ExecuteTime": {
     "end_time": "2022-12-16T14:16:33.129349Z",
     "start_time": "2022-12-16T14:16:33.113350Z"
    }
   },
   "outputs": [
    {
     "data": {
      "text/plain": [
       "['A1', 'A4', 'A5', 'A6', 'A7', 'A9', 'A10', 'A12', 'A13']"
      ]
     },
     "execution_count": 16,
     "metadata": {},
     "output_type": "execute_result"
    }
   ],
   "source": [
    "remaining_vars = [var for var in X_test.columns if var not in numeric_vars]\n",
    "remaining_vars"
   ]
  },
  {
   "cell_type": "code",
   "execution_count": 17,
   "id": "63cdb34b",
   "metadata": {
    "ExecuteTime": {
     "end_time": "2022-12-16T14:16:33.612473Z",
     "start_time": "2022-12-16T14:16:33.594505Z"
    }
   },
   "outputs": [],
   "source": [
    "imputer = SimpleImputer(strategy='median')"
   ]
  },
  {
   "cell_type": "code",
   "execution_count": 18,
   "id": "d713bf91",
   "metadata": {
    "ExecuteTime": {
     "end_time": "2022-12-16T14:16:34.085633Z",
     "start_time": "2022-12-16T14:16:34.074279Z"
    }
   },
   "outputs": [],
   "source": [
    "ct = ColumnTransformer([('imputer', imputer, numeric_vars)],\n",
    "                       remainder='passthrough')"
   ]
  },
  {
   "cell_type": "code",
   "execution_count": 19,
   "id": "89434189",
   "metadata": {
    "ExecuteTime": {
     "end_time": "2022-12-16T14:16:34.427959Z",
     "start_time": "2022-12-16T14:16:34.399076Z"
    }
   },
   "outputs": [
    {
     "data": {
      "text/html": [
       "<style>#sk-container-id-1 {color: black;background-color: white;}#sk-container-id-1 pre{padding: 0;}#sk-container-id-1 div.sk-toggleable {background-color: white;}#sk-container-id-1 label.sk-toggleable__label {cursor: pointer;display: block;width: 100%;margin-bottom: 0;padding: 0.3em;box-sizing: border-box;text-align: center;}#sk-container-id-1 label.sk-toggleable__label-arrow:before {content: \"▸\";float: left;margin-right: 0.25em;color: #696969;}#sk-container-id-1 label.sk-toggleable__label-arrow:hover:before {color: black;}#sk-container-id-1 div.sk-estimator:hover label.sk-toggleable__label-arrow:before {color: black;}#sk-container-id-1 div.sk-toggleable__content {max-height: 0;max-width: 0;overflow: hidden;text-align: left;background-color: #f0f8ff;}#sk-container-id-1 div.sk-toggleable__content pre {margin: 0.2em;color: black;border-radius: 0.25em;background-color: #f0f8ff;}#sk-container-id-1 input.sk-toggleable__control:checked~div.sk-toggleable__content {max-height: 200px;max-width: 100%;overflow: auto;}#sk-container-id-1 input.sk-toggleable__control:checked~label.sk-toggleable__label-arrow:before {content: \"▾\";}#sk-container-id-1 div.sk-estimator input.sk-toggleable__control:checked~label.sk-toggleable__label {background-color: #d4ebff;}#sk-container-id-1 div.sk-label input.sk-toggleable__control:checked~label.sk-toggleable__label {background-color: #d4ebff;}#sk-container-id-1 input.sk-hidden--visually {border: 0;clip: rect(1px 1px 1px 1px);clip: rect(1px, 1px, 1px, 1px);height: 1px;margin: -1px;overflow: hidden;padding: 0;position: absolute;width: 1px;}#sk-container-id-1 div.sk-estimator {font-family: monospace;background-color: #f0f8ff;border: 1px dotted black;border-radius: 0.25em;box-sizing: border-box;margin-bottom: 0.5em;}#sk-container-id-1 div.sk-estimator:hover {background-color: #d4ebff;}#sk-container-id-1 div.sk-parallel-item::after {content: \"\";width: 100%;border-bottom: 1px solid gray;flex-grow: 1;}#sk-container-id-1 div.sk-label:hover label.sk-toggleable__label {background-color: #d4ebff;}#sk-container-id-1 div.sk-serial::before {content: \"\";position: absolute;border-left: 1px solid gray;box-sizing: border-box;top: 0;bottom: 0;left: 50%;z-index: 0;}#sk-container-id-1 div.sk-serial {display: flex;flex-direction: column;align-items: center;background-color: white;padding-right: 0.2em;padding-left: 0.2em;position: relative;}#sk-container-id-1 div.sk-item {position: relative;z-index: 1;}#sk-container-id-1 div.sk-parallel {display: flex;align-items: stretch;justify-content: center;background-color: white;position: relative;}#sk-container-id-1 div.sk-item::before, #sk-container-id-1 div.sk-parallel-item::before {content: \"\";position: absolute;border-left: 1px solid gray;box-sizing: border-box;top: 0;bottom: 0;left: 50%;z-index: -1;}#sk-container-id-1 div.sk-parallel-item {display: flex;flex-direction: column;z-index: 1;position: relative;background-color: white;}#sk-container-id-1 div.sk-parallel-item:first-child::after {align-self: flex-end;width: 50%;}#sk-container-id-1 div.sk-parallel-item:last-child::after {align-self: flex-start;width: 50%;}#sk-container-id-1 div.sk-parallel-item:only-child::after {width: 0;}#sk-container-id-1 div.sk-dashed-wrapped {border: 1px dashed gray;margin: 0 0.4em 0.5em 0.4em;box-sizing: border-box;padding-bottom: 0.4em;background-color: white;}#sk-container-id-1 div.sk-label label {font-family: monospace;font-weight: bold;display: inline-block;line-height: 1.2em;}#sk-container-id-1 div.sk-label-container {text-align: center;}#sk-container-id-1 div.sk-container {/* jupyter's `normalize.less` sets `[hidden] { display: none; }` but bootstrap.min.css set `[hidden] { display: none !important; }` so we also need the `!important` here to be able to override the default hidden behavior on the sphinx rendered scikit-learn.org. See: https://github.com/scikit-learn/scikit-learn/issues/21755 */display: inline-block !important;position: relative;}#sk-container-id-1 div.sk-text-repr-fallback {display: none;}</style><div id=\"sk-container-id-1\" class=\"sk-top-container\"><div class=\"sk-text-repr-fallback\"><pre>ColumnTransformer(remainder=&#x27;passthrough&#x27;,\n",
       "                  transformers=[(&#x27;imputer&#x27;, SimpleImputer(strategy=&#x27;median&#x27;),\n",
       "                                 [&#x27;A2&#x27;, &#x27;A3&#x27;, &#x27;A8&#x27;, &#x27;A11&#x27;, &#x27;A14&#x27;, &#x27;A15&#x27;])])</pre><b>In a Jupyter environment, please rerun this cell to show the HTML representation or trust the notebook. <br />On GitHub, the HTML representation is unable to render, please try loading this page with nbviewer.org.</b></div><div class=\"sk-container\" hidden><div class=\"sk-item sk-dashed-wrapped\"><div class=\"sk-label-container\"><div class=\"sk-label sk-toggleable\"><input class=\"sk-toggleable__control sk-hidden--visually\" id=\"sk-estimator-id-1\" type=\"checkbox\" ><label for=\"sk-estimator-id-1\" class=\"sk-toggleable__label sk-toggleable__label-arrow\">ColumnTransformer</label><div class=\"sk-toggleable__content\"><pre>ColumnTransformer(remainder=&#x27;passthrough&#x27;,\n",
       "                  transformers=[(&#x27;imputer&#x27;, SimpleImputer(strategy=&#x27;median&#x27;),\n",
       "                                 [&#x27;A2&#x27;, &#x27;A3&#x27;, &#x27;A8&#x27;, &#x27;A11&#x27;, &#x27;A14&#x27;, &#x27;A15&#x27;])])</pre></div></div></div><div class=\"sk-parallel\"><div class=\"sk-parallel-item\"><div class=\"sk-item\"><div class=\"sk-label-container\"><div class=\"sk-label sk-toggleable\"><input class=\"sk-toggleable__control sk-hidden--visually\" id=\"sk-estimator-id-2\" type=\"checkbox\" ><label for=\"sk-estimator-id-2\" class=\"sk-toggleable__label sk-toggleable__label-arrow\">imputer</label><div class=\"sk-toggleable__content\"><pre>[&#x27;A2&#x27;, &#x27;A3&#x27;, &#x27;A8&#x27;, &#x27;A11&#x27;, &#x27;A14&#x27;, &#x27;A15&#x27;]</pre></div></div></div><div class=\"sk-serial\"><div class=\"sk-item\"><div class=\"sk-estimator sk-toggleable\"><input class=\"sk-toggleable__control sk-hidden--visually\" id=\"sk-estimator-id-3\" type=\"checkbox\" ><label for=\"sk-estimator-id-3\" class=\"sk-toggleable__label sk-toggleable__label-arrow\">SimpleImputer</label><div class=\"sk-toggleable__content\"><pre>SimpleImputer(strategy=&#x27;median&#x27;)</pre></div></div></div></div></div></div><div class=\"sk-parallel-item\"><div class=\"sk-item\"><div class=\"sk-label-container\"><div class=\"sk-label sk-toggleable\"><input class=\"sk-toggleable__control sk-hidden--visually\" id=\"sk-estimator-id-4\" type=\"checkbox\" ><label for=\"sk-estimator-id-4\" class=\"sk-toggleable__label sk-toggleable__label-arrow\">remainder</label><div class=\"sk-toggleable__content\"><pre>[&#x27;A1&#x27;, &#x27;A4&#x27;, &#x27;A5&#x27;, &#x27;A6&#x27;, &#x27;A7&#x27;, &#x27;A9&#x27;, &#x27;A10&#x27;, &#x27;A12&#x27;, &#x27;A13&#x27;]</pre></div></div></div><div class=\"sk-serial\"><div class=\"sk-item\"><div class=\"sk-estimator sk-toggleable\"><input class=\"sk-toggleable__control sk-hidden--visually\" id=\"sk-estimator-id-5\" type=\"checkbox\" ><label for=\"sk-estimator-id-5\" class=\"sk-toggleable__label sk-toggleable__label-arrow\">passthrough</label><div class=\"sk-toggleable__content\"><pre>passthrough</pre></div></div></div></div></div></div></div></div></div></div>"
      ],
      "text/plain": [
       "ColumnTransformer(remainder='passthrough',\n",
       "                  transformers=[('imputer', SimpleImputer(strategy='median'),\n",
       "                                 ['A2', 'A3', 'A8', 'A11', 'A14', 'A15'])])"
      ]
     },
     "execution_count": 19,
     "metadata": {},
     "output_type": "execute_result"
    }
   ],
   "source": [
    "ct.fit(X_train)"
   ]
  },
  {
   "cell_type": "code",
   "execution_count": 20,
   "id": "0a882cdb",
   "metadata": {
    "ExecuteTime": {
     "end_time": "2022-12-16T14:16:34.695794Z",
     "start_time": "2022-12-16T14:16:34.680303Z"
    }
   },
   "outputs": [
    {
     "data": {
      "text/plain": [
       "array([ 28.71  ,   2.9375,   1.    ,   0.    , 160.    ,   5.    ])"
      ]
     },
     "execution_count": 20,
     "metadata": {},
     "output_type": "execute_result"
    }
   ],
   "source": [
    "ct.named_transformers_.imputer.statistics_"
   ]
  },
  {
   "cell_type": "code",
   "execution_count": 21,
   "id": "e35e1d08",
   "metadata": {
    "ExecuteTime": {
     "end_time": "2022-12-16T14:16:36.621841Z",
     "start_time": "2022-12-16T14:16:36.587040Z"
    }
   },
   "outputs": [],
   "source": [
    "# warning: unable to perform median imputation\n",
    "# for df in [X_train, X_test]:\n",
    "#     df = ct.transform(df)\n",
    "# return NumPy arrays\n",
    "X_train = ct.transform(X_train)\n",
    "X_test = ct.transform(X_test)"
   ]
  },
  {
   "cell_type": "code",
   "execution_count": 22,
   "id": "e19384c8",
   "metadata": {
    "ExecuteTime": {
     "end_time": "2022-12-16T14:16:37.245340Z",
     "start_time": "2022-12-16T14:16:37.217223Z"
    }
   },
   "outputs": [
    {
     "data": {
      "text/html": [
       "<div>\n",
       "<style scoped>\n",
       "    .dataframe tbody tr th:only-of-type {\n",
       "        vertical-align: middle;\n",
       "    }\n",
       "\n",
       "    .dataframe tbody tr th {\n",
       "        vertical-align: top;\n",
       "    }\n",
       "\n",
       "    .dataframe thead th {\n",
       "        text-align: right;\n",
       "    }\n",
       "</style>\n",
       "<table border=\"1\" class=\"dataframe\">\n",
       "  <thead>\n",
       "    <tr style=\"text-align: right;\">\n",
       "      <th></th>\n",
       "      <th>A2</th>\n",
       "      <th>A3</th>\n",
       "      <th>A8</th>\n",
       "      <th>A11</th>\n",
       "      <th>A14</th>\n",
       "      <th>A15</th>\n",
       "      <th>A1</th>\n",
       "      <th>A4</th>\n",
       "      <th>A5</th>\n",
       "      <th>A6</th>\n",
       "      <th>A7</th>\n",
       "      <th>A9</th>\n",
       "      <th>A10</th>\n",
       "      <th>A12</th>\n",
       "      <th>A13</th>\n",
       "    </tr>\n",
       "  </thead>\n",
       "  <tbody>\n",
       "    <tr>\n",
       "      <th>0</th>\n",
       "      <td>25.67</td>\n",
       "      <td>12.5</td>\n",
       "      <td>1.21</td>\n",
       "      <td>67.0</td>\n",
       "      <td>140.0</td>\n",
       "      <td>258.0</td>\n",
       "      <td>b</td>\n",
       "      <td>u</td>\n",
       "      <td>g</td>\n",
       "      <td>cc</td>\n",
       "      <td>v</td>\n",
       "      <td>t</td>\n",
       "      <td>t</td>\n",
       "      <td>t</td>\n",
       "      <td>g</td>\n",
       "    </tr>\n",
       "    <tr>\n",
       "      <th>1</th>\n",
       "      <td>19.17</td>\n",
       "      <td>5.415</td>\n",
       "      <td>0.29</td>\n",
       "      <td>0.0</td>\n",
       "      <td>80.0</td>\n",
       "      <td>484.0</td>\n",
       "      <td>a</td>\n",
       "      <td>u</td>\n",
       "      <td>g</td>\n",
       "      <td>i</td>\n",
       "      <td>h</td>\n",
       "      <td>f</td>\n",
       "      <td>f</td>\n",
       "      <td>f</td>\n",
       "      <td>g</td>\n",
       "    </tr>\n",
       "    <tr>\n",
       "      <th>2</th>\n",
       "      <td>23.92</td>\n",
       "      <td>2.9375</td>\n",
       "      <td>1.0</td>\n",
       "      <td>0.0</td>\n",
       "      <td>100.0</td>\n",
       "      <td>0.0</td>\n",
       "      <td>b</td>\n",
       "      <td>u</td>\n",
       "      <td>g</td>\n",
       "      <td>c</td>\n",
       "      <td>v</td>\n",
       "      <td>NaN</td>\n",
       "      <td>NaN</td>\n",
       "      <td>f</td>\n",
       "      <td>g</td>\n",
       "    </tr>\n",
       "    <tr>\n",
       "      <th>3</th>\n",
       "      <td>32.08</td>\n",
       "      <td>2.9375</td>\n",
       "      <td>1.0</td>\n",
       "      <td>0.0</td>\n",
       "      <td>120.0</td>\n",
       "      <td>0.0</td>\n",
       "      <td>b</td>\n",
       "      <td>y</td>\n",
       "      <td>p</td>\n",
       "      <td>cc</td>\n",
       "      <td>v</td>\n",
       "      <td>NaN</td>\n",
       "      <td>NaN</td>\n",
       "      <td>t</td>\n",
       "      <td>g</td>\n",
       "    </tr>\n",
       "    <tr>\n",
       "      <th>4</th>\n",
       "      <td>20.83</td>\n",
       "      <td>0.5</td>\n",
       "      <td>1.0</td>\n",
       "      <td>0.0</td>\n",
       "      <td>260.0</td>\n",
       "      <td>0.0</td>\n",
       "      <td>a</td>\n",
       "      <td>y</td>\n",
       "      <td>p</td>\n",
       "      <td>e</td>\n",
       "      <td>dd</td>\n",
       "      <td>f</td>\n",
       "      <td>f</td>\n",
       "      <td>f</td>\n",
       "      <td>g</td>\n",
       "    </tr>\n",
       "    <tr>\n",
       "      <th>...</th>\n",
       "      <td>...</td>\n",
       "      <td>...</td>\n",
       "      <td>...</td>\n",
       "      <td>...</td>\n",
       "      <td>...</td>\n",
       "      <td>...</td>\n",
       "      <td>...</td>\n",
       "      <td>...</td>\n",
       "      <td>...</td>\n",
       "      <td>...</td>\n",
       "      <td>...</td>\n",
       "      <td>...</td>\n",
       "      <td>...</td>\n",
       "      <td>...</td>\n",
       "      <td>...</td>\n",
       "    </tr>\n",
       "    <tr>\n",
       "      <th>478</th>\n",
       "      <td>48.5</td>\n",
       "      <td>4.25</td>\n",
       "      <td>0.125</td>\n",
       "      <td>0.0</td>\n",
       "      <td>225.0</td>\n",
       "      <td>0.0</td>\n",
       "      <td>b</td>\n",
       "      <td>u</td>\n",
       "      <td>g</td>\n",
       "      <td>m</td>\n",
       "      <td>v</td>\n",
       "      <td>t</td>\n",
       "      <td>f</td>\n",
       "      <td>t</td>\n",
       "      <td>g</td>\n",
       "    </tr>\n",
       "    <tr>\n",
       "      <th>479</th>\n",
       "      <td>26.67</td>\n",
       "      <td>2.9375</td>\n",
       "      <td>1.0</td>\n",
       "      <td>1.0</td>\n",
       "      <td>120.0</td>\n",
       "      <td>0.0</td>\n",
       "      <td>b</td>\n",
       "      <td>u</td>\n",
       "      <td>g</td>\n",
       "      <td>cc</td>\n",
       "      <td>v</td>\n",
       "      <td>NaN</td>\n",
       "      <td>NaN</td>\n",
       "      <td>t</td>\n",
       "      <td>g</td>\n",
       "    </tr>\n",
       "    <tr>\n",
       "      <th>480</th>\n",
       "      <td>28.92</td>\n",
       "      <td>15.0</td>\n",
       "      <td>5.335</td>\n",
       "      <td>11.0</td>\n",
       "      <td>0.0</td>\n",
       "      <td>2283.0</td>\n",
       "      <td>b</td>\n",
       "      <td>u</td>\n",
       "      <td>g</td>\n",
       "      <td>c</td>\n",
       "      <td>h</td>\n",
       "      <td>t</td>\n",
       "      <td>t</td>\n",
       "      <td>f</td>\n",
       "      <td>g</td>\n",
       "    </tr>\n",
       "    <tr>\n",
       "      <th>481</th>\n",
       "      <td>54.83</td>\n",
       "      <td>15.5</td>\n",
       "      <td>0.0</td>\n",
       "      <td>20.0</td>\n",
       "      <td>152.0</td>\n",
       "      <td>130.0</td>\n",
       "      <td>b</td>\n",
       "      <td>u</td>\n",
       "      <td>g</td>\n",
       "      <td>e</td>\n",
       "      <td>z</td>\n",
       "      <td>t</td>\n",
       "      <td>t</td>\n",
       "      <td>f</td>\n",
       "      <td>g</td>\n",
       "    </tr>\n",
       "    <tr>\n",
       "      <th>482</th>\n",
       "      <td>24.75</td>\n",
       "      <td>0.54</td>\n",
       "      <td>1.0</td>\n",
       "      <td>0.0</td>\n",
       "      <td>120.0</td>\n",
       "      <td>1.0</td>\n",
       "      <td>b</td>\n",
       "      <td>u</td>\n",
       "      <td>g</td>\n",
       "      <td>m</td>\n",
       "      <td>v</td>\n",
       "      <td>f</td>\n",
       "      <td>f</td>\n",
       "      <td>t</td>\n",
       "      <td>g</td>\n",
       "    </tr>\n",
       "  </tbody>\n",
       "</table>\n",
       "<p>483 rows × 15 columns</p>\n",
       "</div>"
      ],
      "text/plain": [
       "        A2      A3     A8   A11    A14     A15 A1 A4 A5  A6  A7   A9  A10 A12  \\\n",
       "0    25.67    12.5   1.21  67.0  140.0   258.0  b  u  g  cc   v    t    t   t   \n",
       "1    19.17   5.415   0.29   0.0   80.0   484.0  a  u  g   i   h    f    f   f   \n",
       "2    23.92  2.9375    1.0   0.0  100.0     0.0  b  u  g   c   v  NaN  NaN   f   \n",
       "3    32.08  2.9375    1.0   0.0  120.0     0.0  b  y  p  cc   v  NaN  NaN   t   \n",
       "4    20.83     0.5    1.0   0.0  260.0     0.0  a  y  p   e  dd    f    f   f   \n",
       "..     ...     ...    ...   ...    ...     ... .. .. ..  ..  ..  ...  ...  ..   \n",
       "478   48.5    4.25  0.125   0.0  225.0     0.0  b  u  g   m   v    t    f   t   \n",
       "479  26.67  2.9375    1.0   1.0  120.0     0.0  b  u  g  cc   v  NaN  NaN   t   \n",
       "480  28.92    15.0  5.335  11.0    0.0  2283.0  b  u  g   c   h    t    t   f   \n",
       "481  54.83    15.5    0.0  20.0  152.0   130.0  b  u  g   e   z    t    t   f   \n",
       "482  24.75    0.54    1.0   0.0  120.0     1.0  b  u  g   m   v    f    f   t   \n",
       "\n",
       "    A13  \n",
       "0     g  \n",
       "1     g  \n",
       "2     g  \n",
       "3     g  \n",
       "4     g  \n",
       "..   ..  \n",
       "478   g  \n",
       "479   g  \n",
       "480   g  \n",
       "481   g  \n",
       "482   g  \n",
       "\n",
       "[483 rows x 15 columns]"
      ]
     },
     "execution_count": 22,
     "metadata": {},
     "output_type": "execute_result"
    }
   ],
   "source": [
    "X_train = pd.DataFrame(X_train, columns=numeric_vars + remaining_vars)\n",
    "X_train"
   ]
  },
  {
   "cell_type": "code",
   "execution_count": 23,
   "id": "72465ceb",
   "metadata": {
    "ExecuteTime": {
     "end_time": "2022-12-16T14:16:38.005031Z",
     "start_time": "2022-12-16T14:16:37.975046Z"
    }
   },
   "outputs": [
    {
     "data": {
      "text/html": [
       "<div>\n",
       "<style scoped>\n",
       "    .dataframe tbody tr th:only-of-type {\n",
       "        vertical-align: middle;\n",
       "    }\n",
       "\n",
       "    .dataframe tbody tr th {\n",
       "        vertical-align: top;\n",
       "    }\n",
       "\n",
       "    .dataframe thead th {\n",
       "        text-align: right;\n",
       "    }\n",
       "</style>\n",
       "<table border=\"1\" class=\"dataframe\">\n",
       "  <thead>\n",
       "    <tr style=\"text-align: right;\">\n",
       "      <th></th>\n",
       "      <th>A2</th>\n",
       "      <th>A3</th>\n",
       "      <th>A8</th>\n",
       "      <th>A11</th>\n",
       "      <th>A14</th>\n",
       "      <th>A15</th>\n",
       "      <th>A1</th>\n",
       "      <th>A4</th>\n",
       "      <th>A5</th>\n",
       "      <th>A6</th>\n",
       "      <th>A7</th>\n",
       "      <th>A9</th>\n",
       "      <th>A10</th>\n",
       "      <th>A12</th>\n",
       "      <th>A13</th>\n",
       "    </tr>\n",
       "  </thead>\n",
       "  <tbody>\n",
       "    <tr>\n",
       "      <th>0</th>\n",
       "      <td>22.5</td>\n",
       "      <td>11.0</td>\n",
       "      <td>3.0</td>\n",
       "      <td>0.0</td>\n",
       "      <td>268.0</td>\n",
       "      <td>0.0</td>\n",
       "      <td>a</td>\n",
       "      <td>y</td>\n",
       "      <td>p</td>\n",
       "      <td>q</td>\n",
       "      <td>v</td>\n",
       "      <td>t</td>\n",
       "      <td>f</td>\n",
       "      <td>t</td>\n",
       "      <td>g</td>\n",
       "    </tr>\n",
       "    <tr>\n",
       "      <th>1</th>\n",
       "      <td>19.33</td>\n",
       "      <td>10.915</td>\n",
       "      <td>0.585</td>\n",
       "      <td>2.0</td>\n",
       "      <td>200.0</td>\n",
       "      <td>7.0</td>\n",
       "      <td>b</td>\n",
       "      <td>u</td>\n",
       "      <td>g</td>\n",
       "      <td>c</td>\n",
       "      <td>bb</td>\n",
       "      <td>f</td>\n",
       "      <td>t</td>\n",
       "      <td>t</td>\n",
       "      <td>g</td>\n",
       "    </tr>\n",
       "    <tr>\n",
       "      <th>2</th>\n",
       "      <td>28.17</td>\n",
       "      <td>2.9375</td>\n",
       "      <td>1.0</td>\n",
       "      <td>0.0</td>\n",
       "      <td>260.0</td>\n",
       "      <td>1004.0</td>\n",
       "      <td>NaN</td>\n",
       "      <td>u</td>\n",
       "      <td>g</td>\n",
       "      <td>aa</td>\n",
       "      <td>v</td>\n",
       "      <td>NaN</td>\n",
       "      <td>NaN</td>\n",
       "      <td>f</td>\n",
       "      <td>g</td>\n",
       "    </tr>\n",
       "    <tr>\n",
       "      <th>3</th>\n",
       "      <td>31.83</td>\n",
       "      <td>2.5</td>\n",
       "      <td>7.5</td>\n",
       "      <td>0.0</td>\n",
       "      <td>523.0</td>\n",
       "      <td>0.0</td>\n",
       "      <td>b</td>\n",
       "      <td>u</td>\n",
       "      <td>g</td>\n",
       "      <td>aa</td>\n",
       "      <td>v</td>\n",
       "      <td>t</td>\n",
       "      <td>f</td>\n",
       "      <td>t</td>\n",
       "      <td>g</td>\n",
       "    </tr>\n",
       "    <tr>\n",
       "      <th>4</th>\n",
       "      <td>20.67</td>\n",
       "      <td>0.415</td>\n",
       "      <td>0.125</td>\n",
       "      <td>0.0</td>\n",
       "      <td>0.0</td>\n",
       "      <td>44.0</td>\n",
       "      <td>b</td>\n",
       "      <td>u</td>\n",
       "      <td>g</td>\n",
       "      <td>c</td>\n",
       "      <td>v</td>\n",
       "      <td>f</td>\n",
       "      <td>f</td>\n",
       "      <td>f</td>\n",
       "      <td>g</td>\n",
       "    </tr>\n",
       "    <tr>\n",
       "      <th>...</th>\n",
       "      <td>...</td>\n",
       "      <td>...</td>\n",
       "      <td>...</td>\n",
       "      <td>...</td>\n",
       "      <td>...</td>\n",
       "      <td>...</td>\n",
       "      <td>...</td>\n",
       "      <td>...</td>\n",
       "      <td>...</td>\n",
       "      <td>...</td>\n",
       "      <td>...</td>\n",
       "      <td>...</td>\n",
       "      <td>...</td>\n",
       "      <td>...</td>\n",
       "      <td>...</td>\n",
       "    </tr>\n",
       "    <tr>\n",
       "      <th>202</th>\n",
       "      <td>29.83</td>\n",
       "      <td>3.5</td>\n",
       "      <td>0.165</td>\n",
       "      <td>0.0</td>\n",
       "      <td>216.0</td>\n",
       "      <td>0.0</td>\n",
       "      <td>b</td>\n",
       "      <td>u</td>\n",
       "      <td>g</td>\n",
       "      <td>c</td>\n",
       "      <td>v</td>\n",
       "      <td>f</td>\n",
       "      <td>f</td>\n",
       "      <td>f</td>\n",
       "      <td>g</td>\n",
       "    </tr>\n",
       "    <tr>\n",
       "      <th>203</th>\n",
       "      <td>30.67</td>\n",
       "      <td>2.5</td>\n",
       "      <td>2.25</td>\n",
       "      <td>0.0</td>\n",
       "      <td>340.0</td>\n",
       "      <td>0.0</td>\n",
       "      <td>b</td>\n",
       "      <td>u</td>\n",
       "      <td>g</td>\n",
       "      <td>cc</td>\n",
       "      <td>h</td>\n",
       "      <td>f</td>\n",
       "      <td>f</td>\n",
       "      <td>t</td>\n",
       "      <td>s</td>\n",
       "    </tr>\n",
       "    <tr>\n",
       "      <th>204</th>\n",
       "      <td>25.42</td>\n",
       "      <td>1.125</td>\n",
       "      <td>1.29</td>\n",
       "      <td>2.0</td>\n",
       "      <td>200.0</td>\n",
       "      <td>0.0</td>\n",
       "      <td>a</td>\n",
       "      <td>u</td>\n",
       "      <td>g</td>\n",
       "      <td>q</td>\n",
       "      <td>v</td>\n",
       "      <td>t</td>\n",
       "      <td>t</td>\n",
       "      <td>f</td>\n",
       "      <td>g</td>\n",
       "    </tr>\n",
       "    <tr>\n",
       "      <th>205</th>\n",
       "      <td>56.75</td>\n",
       "      <td>12.25</td>\n",
       "      <td>1.25</td>\n",
       "      <td>4.0</td>\n",
       "      <td>200.0</td>\n",
       "      <td>0.0</td>\n",
       "      <td>b</td>\n",
       "      <td>u</td>\n",
       "      <td>g</td>\n",
       "      <td>m</td>\n",
       "      <td>v</td>\n",
       "      <td>t</td>\n",
       "      <td>t</td>\n",
       "      <td>t</td>\n",
       "      <td>g</td>\n",
       "    </tr>\n",
       "    <tr>\n",
       "      <th>206</th>\n",
       "      <td>20.67</td>\n",
       "      <td>3.0</td>\n",
       "      <td>0.165</td>\n",
       "      <td>3.0</td>\n",
       "      <td>100.0</td>\n",
       "      <td>6.0</td>\n",
       "      <td>a</td>\n",
       "      <td>u</td>\n",
       "      <td>g</td>\n",
       "      <td>q</td>\n",
       "      <td>v</td>\n",
       "      <td>t</td>\n",
       "      <td>t</td>\n",
       "      <td>f</td>\n",
       "      <td>g</td>\n",
       "    </tr>\n",
       "  </tbody>\n",
       "</table>\n",
       "<p>207 rows × 15 columns</p>\n",
       "</div>"
      ],
      "text/plain": [
       "        A2      A3     A8  A11    A14     A15   A1 A4 A5  A6  A7   A9  A10  \\\n",
       "0     22.5    11.0    3.0  0.0  268.0     0.0    a  y  p   q   v    t    f   \n",
       "1    19.33  10.915  0.585  2.0  200.0     7.0    b  u  g   c  bb    f    t   \n",
       "2    28.17  2.9375    1.0  0.0  260.0  1004.0  NaN  u  g  aa   v  NaN  NaN   \n",
       "3    31.83     2.5    7.5  0.0  523.0     0.0    b  u  g  aa   v    t    f   \n",
       "4    20.67   0.415  0.125  0.0    0.0    44.0    b  u  g   c   v    f    f   \n",
       "..     ...     ...    ...  ...    ...     ...  ... .. ..  ..  ..  ...  ...   \n",
       "202  29.83     3.5  0.165  0.0  216.0     0.0    b  u  g   c   v    f    f   \n",
       "203  30.67     2.5   2.25  0.0  340.0     0.0    b  u  g  cc   h    f    f   \n",
       "204  25.42   1.125   1.29  2.0  200.0     0.0    a  u  g   q   v    t    t   \n",
       "205  56.75   12.25   1.25  4.0  200.0     0.0    b  u  g   m   v    t    t   \n",
       "206  20.67     3.0  0.165  3.0  100.0     6.0    a  u  g   q   v    t    t   \n",
       "\n",
       "    A12 A13  \n",
       "0     t   g  \n",
       "1     t   g  \n",
       "2     f   g  \n",
       "3     t   g  \n",
       "4     f   g  \n",
       "..   ..  ..  \n",
       "202   f   g  \n",
       "203   t   s  \n",
       "204   f   g  \n",
       "205   t   g  \n",
       "206   f   g  \n",
       "\n",
       "[207 rows x 15 columns]"
      ]
     },
     "execution_count": 23,
     "metadata": {},
     "output_type": "execute_result"
    }
   ],
   "source": [
    "X_test = pd.DataFrame(X_test, columns=numeric_vars + remaining_vars)\n",
    "X_test"
   ]
  },
  {
   "cell_type": "code",
   "execution_count": 24,
   "id": "358837db",
   "metadata": {
    "ExecuteTime": {
     "end_time": "2022-12-16T14:16:38.495884Z",
     "start_time": "2022-12-16T14:16:38.485318Z"
    }
   },
   "outputs": [],
   "source": [
    "X_train, X_test, y_train, y_test = train_test_split(data.drop('target',\n",
    "                                                              axis='columns'),\n",
    "                                                    data['target'],\n",
    "                                                    test_size=.3,\n",
    "                                                    random_state=39)"
   ]
  },
  {
   "cell_type": "code",
   "execution_count": 25,
   "id": "1107435c",
   "metadata": {
    "ExecuteTime": {
     "end_time": "2022-12-16T14:16:39.087764Z",
     "start_time": "2022-12-16T14:16:39.084759Z"
    }
   },
   "outputs": [],
   "source": [
    "imputer = MeanMedianImputer(imputation_method='median', variables=numeric_vars)"
   ]
  },
  {
   "cell_type": "code",
   "execution_count": 26,
   "id": "d18dcfe5",
   "metadata": {
    "ExecuteTime": {
     "end_time": "2022-12-16T14:16:39.591888Z",
     "start_time": "2022-12-16T14:16:39.579823Z"
    }
   },
   "outputs": [
    {
     "data": {
      "text/html": [
       "<style>#sk-container-id-2 {color: black;background-color: white;}#sk-container-id-2 pre{padding: 0;}#sk-container-id-2 div.sk-toggleable {background-color: white;}#sk-container-id-2 label.sk-toggleable__label {cursor: pointer;display: block;width: 100%;margin-bottom: 0;padding: 0.3em;box-sizing: border-box;text-align: center;}#sk-container-id-2 label.sk-toggleable__label-arrow:before {content: \"▸\";float: left;margin-right: 0.25em;color: #696969;}#sk-container-id-2 label.sk-toggleable__label-arrow:hover:before {color: black;}#sk-container-id-2 div.sk-estimator:hover label.sk-toggleable__label-arrow:before {color: black;}#sk-container-id-2 div.sk-toggleable__content {max-height: 0;max-width: 0;overflow: hidden;text-align: left;background-color: #f0f8ff;}#sk-container-id-2 div.sk-toggleable__content pre {margin: 0.2em;color: black;border-radius: 0.25em;background-color: #f0f8ff;}#sk-container-id-2 input.sk-toggleable__control:checked~div.sk-toggleable__content {max-height: 200px;max-width: 100%;overflow: auto;}#sk-container-id-2 input.sk-toggleable__control:checked~label.sk-toggleable__label-arrow:before {content: \"▾\";}#sk-container-id-2 div.sk-estimator input.sk-toggleable__control:checked~label.sk-toggleable__label {background-color: #d4ebff;}#sk-container-id-2 div.sk-label input.sk-toggleable__control:checked~label.sk-toggleable__label {background-color: #d4ebff;}#sk-container-id-2 input.sk-hidden--visually {border: 0;clip: rect(1px 1px 1px 1px);clip: rect(1px, 1px, 1px, 1px);height: 1px;margin: -1px;overflow: hidden;padding: 0;position: absolute;width: 1px;}#sk-container-id-2 div.sk-estimator {font-family: monospace;background-color: #f0f8ff;border: 1px dotted black;border-radius: 0.25em;box-sizing: border-box;margin-bottom: 0.5em;}#sk-container-id-2 div.sk-estimator:hover {background-color: #d4ebff;}#sk-container-id-2 div.sk-parallel-item::after {content: \"\";width: 100%;border-bottom: 1px solid gray;flex-grow: 1;}#sk-container-id-2 div.sk-label:hover label.sk-toggleable__label {background-color: #d4ebff;}#sk-container-id-2 div.sk-serial::before {content: \"\";position: absolute;border-left: 1px solid gray;box-sizing: border-box;top: 0;bottom: 0;left: 50%;z-index: 0;}#sk-container-id-2 div.sk-serial {display: flex;flex-direction: column;align-items: center;background-color: white;padding-right: 0.2em;padding-left: 0.2em;position: relative;}#sk-container-id-2 div.sk-item {position: relative;z-index: 1;}#sk-container-id-2 div.sk-parallel {display: flex;align-items: stretch;justify-content: center;background-color: white;position: relative;}#sk-container-id-2 div.sk-item::before, #sk-container-id-2 div.sk-parallel-item::before {content: \"\";position: absolute;border-left: 1px solid gray;box-sizing: border-box;top: 0;bottom: 0;left: 50%;z-index: -1;}#sk-container-id-2 div.sk-parallel-item {display: flex;flex-direction: column;z-index: 1;position: relative;background-color: white;}#sk-container-id-2 div.sk-parallel-item:first-child::after {align-self: flex-end;width: 50%;}#sk-container-id-2 div.sk-parallel-item:last-child::after {align-self: flex-start;width: 50%;}#sk-container-id-2 div.sk-parallel-item:only-child::after {width: 0;}#sk-container-id-2 div.sk-dashed-wrapped {border: 1px dashed gray;margin: 0 0.4em 0.5em 0.4em;box-sizing: border-box;padding-bottom: 0.4em;background-color: white;}#sk-container-id-2 div.sk-label label {font-family: monospace;font-weight: bold;display: inline-block;line-height: 1.2em;}#sk-container-id-2 div.sk-label-container {text-align: center;}#sk-container-id-2 div.sk-container {/* jupyter's `normalize.less` sets `[hidden] { display: none; }` but bootstrap.min.css set `[hidden] { display: none !important; }` so we also need the `!important` here to be able to override the default hidden behavior on the sphinx rendered scikit-learn.org. See: https://github.com/scikit-learn/scikit-learn/issues/21755 */display: inline-block !important;position: relative;}#sk-container-id-2 div.sk-text-repr-fallback {display: none;}</style><div id=\"sk-container-id-2\" class=\"sk-top-container\"><div class=\"sk-text-repr-fallback\"><pre>MeanMedianImputer(variables=[&#x27;A2&#x27;, &#x27;A3&#x27;, &#x27;A8&#x27;, &#x27;A11&#x27;, &#x27;A14&#x27;, &#x27;A15&#x27;])</pre><b>In a Jupyter environment, please rerun this cell to show the HTML representation or trust the notebook. <br />On GitHub, the HTML representation is unable to render, please try loading this page with nbviewer.org.</b></div><div class=\"sk-container\" hidden><div class=\"sk-item\"><div class=\"sk-estimator sk-toggleable\"><input class=\"sk-toggleable__control sk-hidden--visually\" id=\"sk-estimator-id-6\" type=\"checkbox\" checked><label for=\"sk-estimator-id-6\" class=\"sk-toggleable__label sk-toggleable__label-arrow\">MeanMedianImputer</label><div class=\"sk-toggleable__content\"><pre>MeanMedianImputer(variables=[&#x27;A2&#x27;, &#x27;A3&#x27;, &#x27;A8&#x27;, &#x27;A11&#x27;, &#x27;A14&#x27;, &#x27;A15&#x27;])</pre></div></div></div></div></div>"
      ],
      "text/plain": [
       "MeanMedianImputer(variables=['A2', 'A3', 'A8', 'A11', 'A14', 'A15'])"
      ]
     },
     "execution_count": 26,
     "metadata": {},
     "output_type": "execute_result"
    }
   ],
   "source": [
    "imputer.fit(X_train)"
   ]
  },
  {
   "cell_type": "code",
   "execution_count": 27,
   "id": "c07b5b94",
   "metadata": {
    "ExecuteTime": {
     "end_time": "2022-12-16T14:16:40.281337Z",
     "start_time": "2022-12-16T14:16:40.262303Z"
    }
   },
   "outputs": [
    {
     "data": {
      "text/plain": [
       "{'A2': 28.71, 'A3': 2.9375, 'A8': 1.0, 'A11': 0.0, 'A14': 160.0, 'A15': 5.0}"
      ]
     },
     "execution_count": 27,
     "metadata": {},
     "output_type": "execute_result"
    }
   ],
   "source": [
    "imputer.imputer_dict_"
   ]
  },
  {
   "cell_type": "code",
   "execution_count": 28,
   "id": "4925f40b",
   "metadata": {
    "ExecuteTime": {
     "end_time": "2022-12-16T14:16:40.994939Z",
     "start_time": "2022-12-16T14:16:40.982454Z"
    }
   },
   "outputs": [],
   "source": [
    "X_train = imputer.transform(X_train)\n",
    "X_test = imputer.transform(X_test)"
   ]
  },
  {
   "cell_type": "code",
   "execution_count": 29,
   "id": "f5f45a9c",
   "metadata": {
    "ExecuteTime": {
     "end_time": "2022-12-16T14:16:41.538103Z",
     "start_time": "2022-12-16T14:16:41.522161Z"
    }
   },
   "outputs": [
    {
     "name": "stdout",
     "output_type": "stream",
     "text": [
      "False\n",
      "False\n"
     ]
    }
   ],
   "source": [
    "print(X_train[numeric_vars].isnull().any().any())\n",
    "print(X_test[numeric_vars].isnull().any().any())"
   ]
  },
  {
   "cell_type": "markdown",
   "id": "922560a3",
   "metadata": {},
   "source": [
    "## Imputing categorical variables"
   ]
  },
  {
   "cell_type": "code",
   "execution_count": 30,
   "id": "b04e7753",
   "metadata": {
    "ExecuteTime": {
     "end_time": "2022-12-16T14:16:45.901917Z",
     "start_time": "2022-12-16T14:16:45.812824Z"
    },
    "code_folding": []
   },
   "outputs": [
    {
     "name": "stdout",
     "output_type": "stream",
     "text": [
      "{'A1': 'b', 'A4': 'u', 'A5': 'g', 'A6': 'c', 'A7': 'v', 'A9': 't', 'A10': 'f', 'A12': 'f', 'A13': 'g'}\n",
      "False\n",
      "False\n",
      "b          332\n",
      "a          144\n",
      "no_data      7\n",
      "Name: A1, dtype: int64\n",
      "['b' 'u' 'g' 'c' 'v' 't' 'f' 'f' 'g']\n",
      "False\n",
      "{'A1': 'b', 'A4': 'u', 'A5': 'g', 'A6': 'c', 'A7': 'v', 'A9': 't', 'A10': 'f', 'A12': 'f', 'A13': 'g'}\n",
      "False\n",
      "False\n"
     ]
    }
   ],
   "source": [
    "import pandas as pd\n",
    "from sklearn.model_selection import train_test_split\n",
    "from sklearn.impute import SimpleImputer\n",
    "from sklearn.compose import ColumnTransformer\n",
    "from feature_engine.imputation import CategoricalImputer\n",
    "\n",
    "data = pd.read_csv('../data/credit_approval_uci.csv')\n",
    "\n",
    "X_train, X_test, y_train, y_test = train_test_split(data.drop('target',\n",
    "                                                              axis='columns'),\n",
    "                                                    data['target'],\n",
    "                                                    test_size=.3,\n",
    "                                                    random_state=37)\n",
    "# using pandas\n",
    "categorical_vars = X_train.select_dtypes(include='O').columns.to_list()\n",
    "# important: iloc[0]\n",
    "frequent_values = X_train[categorical_vars].mode().iloc[0].to_dict()\n",
    "print(frequent_values)\n",
    "\n",
    "X_train = X_train.fillna(value=frequent_values)\n",
    "X_test = X_test.fillna(value=frequent_values)\n",
    "print(X_train[categorical_vars].isnull().any().any())\n",
    "print(X_test[categorical_vars].isnull().any().any())\n",
    "\n",
    "# Imputation with a string\n",
    "X_train, X_test, y_train, y_test = train_test_split(data.drop('target',\n",
    "                                                              axis='columns'),\n",
    "                                                    data['target'],\n",
    "                                                    test_size=.3,\n",
    "                                                    random_state=37)\n",
    "imputation_dict = {var: 'no_data' for var in categorical_vars}\n",
    "X_train = X_train.fillna(value=imputation_dict)\n",
    "X_test = X_test.fillna(value=imputation_dict)\n",
    "print(X_train['A1'].value_counts())\n",
    "\n",
    "# using scikit-learn\n",
    "X_train, X_test, y_train, y_test = train_test_split(data.drop('target',\n",
    "                                                              axis='columns'),\n",
    "                                                    data['target'],\n",
    "                                                    test_size=.3,\n",
    "                                                    random_state=37)\n",
    "\n",
    "remaining_vars = [\n",
    "    var for var in X_train.columns if var not in categorical_vars\n",
    "]\n",
    "\n",
    "imputation_dict = {var: 'not_data' for var in categorical_vars}\n",
    "imputer = SimpleImputer(strategy='most_frequent')\n",
    "\n",
    "ct = ColumnTransformer([('Imputer', imputer, categorical_vars)],\n",
    "                       remainder='passthrough')\n",
    "\n",
    "ct.fit(X_train)\n",
    "# this string \"Imputer\" here must be identical to the string 'Imputer' in ColumnTransformer\n",
    "print(ct.named_transformers_.Imputer.statistics_)\n",
    "\n",
    "X_train = ct.transform(X_train)\n",
    "X_test = ct.transform(X_test)\n",
    "\n",
    "X_train = pd.DataFrame(X_train, columns=categorical_vars + remaining_vars)\n",
    "print(X_train[categorical_vars].isnull().any().any())\n",
    "\n",
    "# using feature-engine\n",
    "X_train, X_test, y_train, y_test = train_test_split(data.drop('target',\n",
    "                                                              axis='columns'),\n",
    "                                                    data['target'],\n",
    "                                                    test_size=.3,\n",
    "                                                    random_state=37)\n",
    "\n",
    "imputer = CategoricalImputer(imputation_method='frequent', variables=categorical_vars)\n",
    "\n",
    "imputer.fit(X_train)\n",
    "\n",
    "print(imputer.imputer_dict_)\n",
    "\n",
    "X_train = imputer.transform(X_train)\n",
    "X_test = imputer.transform(X_test)\n",
    "print(X_train[categorical_vars].isnull().any().any())\n",
    "print(X_test[categorical_vars].isnull().any().any())"
   ]
  },
  {
   "cell_type": "code",
   "execution_count": null,
   "id": "18a75b3d",
   "metadata": {},
   "outputs": [],
   "source": []
  }
 ],
 "metadata": {
  "celltoolbar": "原始单元格格式",
  "kernelspec": {
   "display_name": "Python 3",
   "language": "python",
   "name": "python3"
  },
  "language_info": {
   "codemirror_mode": {
    "name": "ipython",
    "version": 3
   },
   "file_extension": ".py",
   "mimetype": "text/x-python",
   "name": "python",
   "nbconvert_exporter": "python",
   "pygments_lexer": "ipython3",
   "version": "3.11.1 (tags/v3.11.1:a7a450f, Dec  6 2022, 19:58:39) [MSC v.1934 64 bit (AMD64)]"
  },
  "latex_envs": {
   "LaTeX_envs_menu_present": true,
   "autoclose": false,
   "autocomplete": true,
   "bibliofile": "biblio.bib",
   "cite_by": "apalike",
   "current_citInitial": 1,
   "eqLabelWithNumbers": true,
   "eqNumInitial": 1,
   "hotkeys": {
    "equation": "Ctrl-E",
    "itemize": "Ctrl-I"
   },
   "labels_anchors": false,
   "latex_user_defs": false,
   "report_style_numbering": false,
   "user_envs_cfg": false
  },
  "toc": {
   "base_numbering": 1,
   "nav_menu": {},
   "number_sections": true,
   "sideBar": true,
   "skip_h1_title": false,
   "title_cell": "Table of Contents",
   "title_sidebar": "Contents",
   "toc_cell": false,
   "toc_position": {},
   "toc_section_display": true,
   "toc_window_display": false
  },
  "varInspector": {
   "cols": {
    "lenName": 16,
    "lenType": 16,
    "lenVar": 40
   },
   "kernels_config": {
    "python": {
     "delete_cmd_postfix": "",
     "delete_cmd_prefix": "del ",
     "library": "var_list.py",
     "varRefreshCmd": "print(var_dic_list())"
    },
    "r": {
     "delete_cmd_postfix": ") ",
     "delete_cmd_prefix": "rm(",
     "library": "var_list.r",
     "varRefreshCmd": "cat(var_dic_list()) "
    }
   },
   "types_to_exclude": [
    "module",
    "function",
    "builtin_function_or_method",
    "instance",
    "_Feature"
   ],
   "window_display": false
  },
  "vp": {
   "vp_config_version": "1.0.0",
   "vp_menu_width": 273,
   "vp_note_display": false,
   "vp_note_width": 0,
   "vp_position": {
    "width": 278
   },
   "vp_section_display": false,
   "vp_signature": "VisualPython"
  },
  "vscode": {
   "interpreter": {
    "hash": "396a362f18ad31e951a86f61f9a3a4e12dfb54f46cd2cbe166be0505e7769997"
   }
  }
 },
 "nbformat": 4,
 "nbformat_minor": 5
}
