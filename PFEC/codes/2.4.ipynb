{
 "cells": [
  {
   "attachments": {},
   "cell_type": "markdown",
   "metadata": {},
   "source": [
    "# Replacing categories with counts or the frequency of observations"
   ]
  },
  {
   "cell_type": "code",
   "execution_count": 2,
   "metadata": {},
   "outputs": [],
   "source": [
    "import pandas as pd\n",
    "from sklearn.model_selection import train_test_split\n",
    "data = pd.read_csv('../data/credit_approval_uci.csv')\n",
    "\n",
    "X_train, X_test, y_train, y_test = train_test_split(\n",
    "    data.drop(labels=['target'], axis='columns'), data['target'],\n",
    "    test_size=.3,\n",
    "    random_state=0\n",
    ")"
   ]
  },
  {
   "cell_type": "code",
   "execution_count": 8,
   "metadata": {},
   "outputs": [],
   "source": [
    "counts = X_train['A7'].value_counts().to_dict()\n",
    "X_train['A7'] = X_train['A7'].map(counts)\n",
    "X_test['A7'] = X_test['A7'].map(counts)"
   ]
  },
  {
   "attachments": {},
   "cell_type": "markdown",
   "metadata": {},
   "source": [
    "Now, let’s carry out count encoding using Feature-engine. First, let’s load and divide the dataset."
   ]
  },
  {
   "cell_type": "code",
   "execution_count": 11,
   "metadata": {},
   "outputs": [],
   "source": [
    "data = pd.read_csv('../data/credit_approval_uci.csv')\n",
    "\n",
    "X_train, X_test, y_train, y_test = train_test_split(\n",
    "    data.drop(labels=['target'], axis='columns'), data['target'],\n",
    "    test_size=.3,\n",
    "    random_state=0\n",
    ")"
   ]
  },
  {
   "cell_type": "code",
   "execution_count": 24,
   "metadata": {},
   "outputs": [],
   "source": [
    "from feature_engine.encoding import CountFrequencyEncoder\n",
    "count_enc = CountFrequencyEncoder(\n",
    "    encoding_method='count', variables=None\n",
    ")\n",
    "count_enc.fit(X_train)\n",
    "X_train_enc = count_enc.transform(X_train)"
   ]
  },
  {
   "cell_type": "code",
   "execution_count": 25,
   "metadata": {},
   "outputs": [
    {
     "data": {
      "text/plain": [
       "{'A1': {'b': 335, 'a': 144, 'Missing': 4},\n",
       " 'A4': {'u': 363, 'y': 115, 'Missing': 4, 'l': 1},\n",
       " 'A5': {'g': 363, 'p': 115, 'Missing': 4, 'gg': 1},\n",
       " 'A6': {'c': 93,\n",
       "  'q': 56,\n",
       "  'w': 48,\n",
       "  'i': 41,\n",
       "  'ff': 38,\n",
       "  'k': 38,\n",
       "  'aa': 34,\n",
       "  'cc': 30,\n",
       "  'm': 26,\n",
       "  'x': 24,\n",
       "  'e': 21,\n",
       "  'd': 21,\n",
       "  'j': 8,\n",
       "  'Missing': 4,\n",
       "  'r': 1},\n",
       " 'A7': {'v': 277,\n",
       "  'h': 101,\n",
       "  'ff': 41,\n",
       "  'bb': 39,\n",
       "  'z': 7,\n",
       "  'dd': 5,\n",
       "  'j': 5,\n",
       "  'Missing': 4,\n",
       "  'n': 3,\n",
       "  'o': 1},\n",
       " 'A9': {'t': 223, 'f': 197, 'Missing': 63},\n",
       " 'A10': {'f': 238, 't': 182, 'Missing': 63},\n",
       " 'A12': {'f': 263, 't': 220},\n",
       " 'A13': {'g': 441, 's': 38, 'p': 4}}"
      ]
     },
     "execution_count": 25,
     "metadata": {},
     "output_type": "execute_result"
    }
   ],
   "source": [
    "count_enc.encoder_dict_"
   ]
  },
  {
   "cell_type": "markdown",
   "metadata": {},
   "source": []
  },
  {
   "cell_type": "code",
   "execution_count": 20,
   "metadata": {},
   "outputs": [],
   "source": [
    "from category_encoders.count import CountEncoder\n",
    "count_enc = CountEncoder(cols=None)\n",
    "count_enc.fit(X_train)\n",
    "X_train_enc = count_enc.transform(X_train)\n",
    "X_test_enc = count_enc.transform(X_test)"
   ]
  },
  {
   "cell_type": "code",
   "execution_count": null,
   "metadata": {},
   "outputs": [],
   "source": []
  }
 ],
 "metadata": {
  "kernelspec": {
   "display_name": "Python 3",
   "language": "python",
   "name": "python3"
  },
  "language_info": {
   "codemirror_mode": {
    "name": "ipython",
    "version": 3
   },
   "file_extension": ".py",
   "mimetype": "text/x-python",
   "name": "python",
   "nbconvert_exporter": "python",
   "pygments_lexer": "ipython3",
   "version": "3.11.0"
  },
  "orig_nbformat": 4,
  "vscode": {
   "interpreter": {
    "hash": "7bc93c7453de9fdc1bd59af12257df80d301c9c5cff011373ccf01871d7f90c9"
   }
  }
 },
 "nbformat": 4,
 "nbformat_minor": 2
}
