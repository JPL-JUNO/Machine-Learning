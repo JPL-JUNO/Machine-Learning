{
 "cells": [
  {
   "attachments": {},
   "cell_type": "markdown",
   "metadata": {},
   "source": [
    "# Creating binary variables through one-hot encoding"
   ]
  },
  {
   "cell_type": "code",
   "execution_count": 56,
   "metadata": {},
   "outputs": [],
   "source": [
    "import pandas as pd\n",
    "from sklearn.model_selection import train_test_split\n",
    "\n",
    "data = pd.read_csv('../data/credit_approval_uci.csv')"
   ]
  },
  {
   "cell_type": "code",
   "execution_count": 57,
   "metadata": {},
   "outputs": [],
   "source": [
    "#  let’s do one-hot encoding using pandas\n",
    "X_train, X_test, y_train, y_test = train_test_split(\n",
    "    data.drop(labels=['target'], axis='columns'), data['target'],\n",
    "    test_size=.3,\n",
    "    random_state=0\n",
    ")\n",
    "\n",
    "X_train['A4'].unique()\n",
    "\n",
    "dummies = pd.get_dummies(X_train['A4'], drop_first=True)\n",
    "dummies.head()\n",
    "\n",
    "X_train_enc = pd.get_dummies(X_train, drop_first=True)\n",
    "X_test_enc = pd.get_dummies(X_test, drop_first=True)\n",
    "X_train_enc.head()\n",
    "\n",
    "X_train_enc.columns\n",
    "\n",
    "X_test_enc = pd.concat([X_test, X_test_enc], axis='columns')\n",
    "\n",
    "X_test_enc.drop(\n",
    "    labels=X_test_enc.select_dtypes(include='O').columns,\n",
    "    axis='columns',\n",
    "    inplace=True\n",
    ")"
   ]
  },
  {
   "cell_type": "code",
   "execution_count": 58,
   "metadata": {},
   "outputs": [],
   "source": [
    "#  let’s do one-hot encoding using scikit-learn\n",
    "from sklearn.preprocessing import OneHotEncoder\n",
    "\n",
    "X_train, X_test, y_train, y_test = train_test_split(\n",
    "    data.drop(labels=['target'], axis='columns'), data['target'],\n",
    "    test_size=.3,\n",
    "    random_state=0\n",
    ")\n",
    "\n",
    "# handle_unknown='ignore'\n",
    "encoder = OneHotEncoder(drop='first', sparse=False)\n",
    "\n",
    "vars_categorical = X_train.select_dtypes(include='O').columns.to_list()\n",
    "\n",
    "encoder.fit(X_train[vars_categorical])\n",
    "\n",
    "encoder.categories_\n",
    "\n",
    "X_train_enc = encoder.transform(\n",
    "    X_train[vars_categorical]\n",
    ")\n",
    "\n",
    "X_test_enc = encoder.transform(\n",
    "    X_test[vars_categorical]\n",
    ")\n",
    "\n",
    "encoder.get_feature_names_out()\n",
    "\n",
    "X_test_enc = pd.DataFrame(X_test_enc)\n",
    "X_test_enc.columns = encoder.get_feature_names_out()\n",
    "\n",
    "X_test_enc.index = X_test.index\n",
    "\n",
    "X_test_enc = pd.concat([X_test, X_test_enc], axis='columns')\n",
    "\n",
    "X_test_enc.drop(\n",
    "    labels=X_test_enc.select_dtypes(include='O').columns,\n",
    "    axis='columns',\n",
    "    inplace=True\n",
    ")"
   ]
  },
  {
   "cell_type": "code",
   "execution_count": 59,
   "metadata": {},
   "outputs": [
    {
     "data": {
      "text/plain": [
       "['A2',\n",
       " 'A3',\n",
       " 'A8',\n",
       " 'A11',\n",
       " 'A14',\n",
       " 'A15',\n",
       " 'A1_a',\n",
       " 'A1_b',\n",
       " 'A4_u',\n",
       " 'A4_y',\n",
       " 'A4_Missing',\n",
       " 'A5_g',\n",
       " 'A5_p',\n",
       " 'A5_Missing',\n",
       " 'A6_c',\n",
       " 'A6_q',\n",
       " 'A6_w',\n",
       " 'A6_ff',\n",
       " 'A6_m',\n",
       " 'A6_i',\n",
       " 'A6_e',\n",
       " 'A6_cc',\n",
       " 'A6_x',\n",
       " 'A6_d',\n",
       " 'A6_k',\n",
       " 'A6_j',\n",
       " 'A6_Missing',\n",
       " 'A6_aa',\n",
       " 'A7_v',\n",
       " 'A7_ff',\n",
       " 'A7_h',\n",
       " 'A7_dd',\n",
       " 'A7_z',\n",
       " 'A7_bb',\n",
       " 'A7_j',\n",
       " 'A7_Missing',\n",
       " 'A7_n',\n",
       " 'A9_t',\n",
       " 'A9_f',\n",
       " 'A10_t',\n",
       " 'A10_f',\n",
       " 'A12_t',\n",
       " 'A13_g',\n",
       " 'A13_s']"
      ]
     },
     "execution_count": 59,
     "metadata": {},
     "output_type": "execute_result"
    }
   ],
   "source": [
    "# let’s perform one-hot encoding with Feature-engine\n",
    "from feature_engine.encoding import OneHotEncoder\n",
    "\n",
    "X_train, X_test, y_train, y_test = train_test_split(\n",
    "    data.drop(labels=['target'], axis='columns'), data['target'],\n",
    "    test_size=.3,\n",
    "    random_state=0\n",
    ")\n",
    "\n",
    "ohe_enc = OneHotEncoder(drop_last=True)\n",
    "ohe_enc.fit(X_train)\n",
    "\n",
    "ohe_enc.variables_\n",
    "\n",
    "ohe_enc.encoder_dict_\n",
    "\n",
    "X_train_enc = ohe_enc.transform(X_train)\n",
    "X_test_enc = ohe_enc.transform(X_test)\n",
    "\n",
    "ohe_enc.get_feature_names_out()"
   ]
  }
 ],
 "metadata": {
  "kernelspec": {
   "display_name": "Python 3",
   "language": "python",
   "name": "python3"
  },
  "language_info": {
   "codemirror_mode": {
    "name": "ipython",
    "version": 3
   },
   "file_extension": ".py",
   "mimetype": "text/x-python",
   "name": "python",
   "nbconvert_exporter": "python",
   "pygments_lexer": "ipython3",
   "version": "3.10.5"
  },
  "orig_nbformat": 4,
  "vscode": {
   "interpreter": {
    "hash": "2469a70536e4d2335a2ea8907942d0699c37342a371ac185bdb5b0aa6f073890"
   }
  }
 },
 "nbformat": 4,
 "nbformat_minor": 2
}
