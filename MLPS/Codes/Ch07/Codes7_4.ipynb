{
 "cells": [
  {
   "cell_type": "code",
   "execution_count": 1,
   "metadata": {},
   "outputs": [
    {
     "name": "stdout",
     "output_type": "stream",
     "text": [
      "\n",
      "@Description: Leveraging weak learners via adaptive boosting\n",
      "@Author(s): Stephen CUI\n",
      "@LastEditor(s): Stephen CUI\n",
      "@CreatedTime: 2023-06-15 14:48:35\n",
      "\n"
     ]
    }
   ],
   "source": [
    "print(\"\"\"\n",
    "@Description: Leveraging weak learners via adaptive boosting\n",
    "@Author(s): Stephen CUI\n",
    "@LastEditor(s): Stephen CUI\n",
    "@CreatedTime: 2023-06-15 14:48:35\n",
    "\"\"\")"
   ]
  },
  {
   "attachments": {},
   "cell_type": "markdown",
   "metadata": {},
   "source": [
    "# How adaptive boosting works"
   ]
  },
  {
   "cell_type": "code",
   "execution_count": 6,
   "metadata": {},
   "outputs": [
    {
     "name": "stdout",
     "output_type": "stream",
     "text": [
      "[0.1 0.1 0.1 0.1 0.1 0.1 0.1 0.1 0.1 0.1]\n"
     ]
    }
   ],
   "source": [
    "import numpy as np\n",
    "y = np.array([1, 1, 1, -1, -1, -1, 1, 1, 1, -1])\n",
    "y_hat = np.array([1, 1, 1, -1, -1, -1, -1, -1, -1, -1])\n",
    "correct = (y == y_hat)\n",
    "weights = np.full(10, .1)\n",
    "print(weights)"
   ]
  },
  {
   "cell_type": "code",
   "execution_count": 19,
   "metadata": {},
   "outputs": [],
   "source": [
    "epsilon = np.mean(~correct)"
   ]
  }
 ],
 "metadata": {
  "kernelspec": {
   "display_name": "MLPS",
   "language": "python",
   "name": "python3"
  },
  "language_info": {
   "codemirror_mode": {
    "name": "ipython",
    "version": 3
   },
   "file_extension": ".py",
   "mimetype": "text/x-python",
   "name": "python",
   "nbconvert_exporter": "python",
   "pygments_lexer": "ipython3",
   "version": "3.10.11"
  },
  "orig_nbformat": 4
 },
 "nbformat": 4,
 "nbformat_minor": 2
}
